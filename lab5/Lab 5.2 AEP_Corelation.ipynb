{
 "cells": [
  {
   "cell_type": "code",
   "execution_count": 1,
   "id": "683d89e1",
   "metadata": {},
   "outputs": [],
   "source": [
    "import pandas as pd\n",
    "import numpy as np\n",
    "#from dataprep.datasets import load_dataset   # Used to import / load dataset\n",
    "#from dataprep.eda import create_report   # Used to load Report formate"
   ]
  },
  {
   "cell_type": "code",
   "execution_count": 2,
   "id": "9be6ddc4",
   "metadata": {},
   "outputs": [
    {
     "data": {
      "text/html": [
       "<div>\n",
       "<style scoped>\n",
       "    .dataframe tbody tr th:only-of-type {\n",
       "        vertical-align: middle;\n",
       "    }\n",
       "\n",
       "    .dataframe tbody tr th {\n",
       "        vertical-align: top;\n",
       "    }\n",
       "\n",
       "    .dataframe thead th {\n",
       "        text-align: right;\n",
       "    }\n",
       "</style>\n",
       "<table border=\"1\" class=\"dataframe\">\n",
       "  <thead>\n",
       "    <tr style=\"text-align: right;\">\n",
       "      <th></th>\n",
       "      <th>aep</th>\n",
       "      <th>year_day</th>\n",
       "      <th>holiday</th>\n",
       "      <th>weekend</th>\n",
       "      <th>winter</th>\n",
       "      <th>spring</th>\n",
       "      <th>summer</th>\n",
       "      <th>fall</th>\n",
       "      <th>hour</th>\n",
       "      <th>month</th>\n",
       "      <th>day_of_week</th>\n",
       "    </tr>\n",
       "    <tr>\n",
       "      <th>Datetime</th>\n",
       "      <th></th>\n",
       "      <th></th>\n",
       "      <th></th>\n",
       "      <th></th>\n",
       "      <th></th>\n",
       "      <th></th>\n",
       "      <th></th>\n",
       "      <th></th>\n",
       "      <th></th>\n",
       "      <th></th>\n",
       "      <th></th>\n",
       "    </tr>\n",
       "  </thead>\n",
       "  <tbody>\n",
       "    <tr>\n",
       "      <th>2004-12-31 01:00:00</th>\n",
       "      <td>13478.0</td>\n",
       "      <td>366</td>\n",
       "      <td>1</td>\n",
       "      <td>0</td>\n",
       "      <td>1</td>\n",
       "      <td>0</td>\n",
       "      <td>0</td>\n",
       "      <td>0</td>\n",
       "      <td>1</td>\n",
       "      <td>12</td>\n",
       "      <td>4</td>\n",
       "    </tr>\n",
       "    <tr>\n",
       "      <th>2004-12-31 02:00:00</th>\n",
       "      <td>12865.0</td>\n",
       "      <td>366</td>\n",
       "      <td>1</td>\n",
       "      <td>0</td>\n",
       "      <td>1</td>\n",
       "      <td>0</td>\n",
       "      <td>0</td>\n",
       "      <td>0</td>\n",
       "      <td>2</td>\n",
       "      <td>12</td>\n",
       "      <td>4</td>\n",
       "    </tr>\n",
       "    <tr>\n",
       "      <th>2004-12-31 03:00:00</th>\n",
       "      <td>12577.0</td>\n",
       "      <td>366</td>\n",
       "      <td>1</td>\n",
       "      <td>0</td>\n",
       "      <td>1</td>\n",
       "      <td>0</td>\n",
       "      <td>0</td>\n",
       "      <td>0</td>\n",
       "      <td>3</td>\n",
       "      <td>12</td>\n",
       "      <td>4</td>\n",
       "    </tr>\n",
       "    <tr>\n",
       "      <th>2004-12-31 04:00:00</th>\n",
       "      <td>12517.0</td>\n",
       "      <td>366</td>\n",
       "      <td>1</td>\n",
       "      <td>0</td>\n",
       "      <td>1</td>\n",
       "      <td>0</td>\n",
       "      <td>0</td>\n",
       "      <td>0</td>\n",
       "      <td>4</td>\n",
       "      <td>12</td>\n",
       "      <td>4</td>\n",
       "    </tr>\n",
       "    <tr>\n",
       "      <th>2004-12-31 05:00:00</th>\n",
       "      <td>12670.0</td>\n",
       "      <td>366</td>\n",
       "      <td>1</td>\n",
       "      <td>0</td>\n",
       "      <td>1</td>\n",
       "      <td>0</td>\n",
       "      <td>0</td>\n",
       "      <td>0</td>\n",
       "      <td>5</td>\n",
       "      <td>12</td>\n",
       "      <td>4</td>\n",
       "    </tr>\n",
       "  </tbody>\n",
       "</table>\n",
       "</div>"
      ],
      "text/plain": [
       "                         aep  year_day  holiday  weekend  winter  spring  \\\n",
       "Datetime                                                                   \n",
       "2004-12-31 01:00:00  13478.0       366        1        0       1       0   \n",
       "2004-12-31 02:00:00  12865.0       366        1        0       1       0   \n",
       "2004-12-31 03:00:00  12577.0       366        1        0       1       0   \n",
       "2004-12-31 04:00:00  12517.0       366        1        0       1       0   \n",
       "2004-12-31 05:00:00  12670.0       366        1        0       1       0   \n",
       "\n",
       "                     summer  fall  hour  month  day_of_week  \n",
       "Datetime                                                     \n",
       "2004-12-31 01:00:00       0     0     1     12            4  \n",
       "2004-12-31 02:00:00       0     0     2     12            4  \n",
       "2004-12-31 03:00:00       0     0     3     12            4  \n",
       "2004-12-31 04:00:00       0     0     4     12            4  \n",
       "2004-12-31 05:00:00       0     0     5     12            4  "
      ]
     },
     "execution_count": 2,
     "metadata": {},
     "output_type": "execute_result"
    }
   ],
   "source": [
    "df=pd.read_csv(r'D:\\anaconda\\envs\\lab5\\5_features_extracted.csv', index_col=['Datetime'], parse_dates=['Datetime'])\n",
    "df.head()"
   ]
  },
  {
   "cell_type": "code",
   "execution_count": 3,
   "id": "99d172a9",
   "metadata": {},
   "outputs": [
    {
     "name": "stdout",
     "output_type": "stream",
     "text": [
      "pearson\n",
      "\n",
      " aep            1.000000\n",
      "year_day      -0.124691\n",
      "holiday       -0.053245\n",
      "weekend       -0.267134\n",
      "winter         0.328248\n",
      "spring        -0.246479\n",
      "summer         0.139761\n",
      "fall          -0.220948\n",
      "hour           0.420954\n",
      "month         -0.125964\n",
      "day_of_week   -0.219889\n",
      "dtype: float64\n"
     ]
    }
   ],
   "source": [
    "print('pearson\\n\\n',df.corrwith(df[\"aep\"],method=\"pearson\"))"
   ]
  },
  {
   "cell_type": "code",
   "execution_count": 4,
   "id": "7a874202",
   "metadata": {},
   "outputs": [
    {
     "name": "stdout",
     "output_type": "stream",
     "text": [
      "kendall\n",
      "\n",
      " aep            1.000000\n",
      "year_day      -0.082653\n",
      "holiday       -0.041133\n",
      "weekend       -0.217919\n",
      "winter         0.278512\n",
      "spring        -0.197668\n",
      "summer         0.098096\n",
      "fall          -0.178494\n",
      "hour           0.292486\n",
      "month         -0.085643\n",
      "day_of_week   -0.158005\n",
      "dtype: float64\n"
     ]
    }
   ],
   "source": [
    "print('kendall\\n\\n',df.corrwith(df[\"aep\"],method=\"kendall\"))"
   ]
  },
  {
   "cell_type": "code",
   "execution_count": 5,
   "id": "e8e77849",
   "metadata": {},
   "outputs": [
    {
     "name": "stdout",
     "output_type": "stream",
     "text": [
      "spearman\n",
      "\n",
      " aep            1.000000\n",
      "year_day      -0.123327\n",
      "holiday       -0.050374\n",
      "weekend       -0.266880\n",
      "winter         0.341086\n",
      "spring        -0.242079\n",
      "summer         0.120136\n",
      "fall          -0.218596\n",
      "hour           0.431731\n",
      "month         -0.123519\n",
      "day_of_week   -0.219444\n",
      "dtype: float64\n"
     ]
    }
   ],
   "source": [
    "print('spearman\\n\\n',df.corrwith(df[\"aep\"],method=\"spearman\"))"
   ]
  },
  {
   "cell_type": "code",
   "execution_count": 6,
   "id": "e80a8cfd",
   "metadata": {},
   "outputs": [
    {
     "data": {
      "text/plain": [
       "aep            0\n",
       "year_day       0\n",
       "holiday        0\n",
       "weekend        0\n",
       "winter         0\n",
       "spring         0\n",
       "summer         0\n",
       "fall           0\n",
       "hour           0\n",
       "month          0\n",
       "day_of_week    0\n",
       "dtype: int64"
      ]
     },
     "execution_count": 6,
     "metadata": {},
     "output_type": "execute_result"
    }
   ],
   "source": [
    "df.isnull().sum()"
   ]
  },
  {
   "cell_type": "code",
   "execution_count": null,
   "id": "7cc21d63",
   "metadata": {},
   "outputs": [],
   "source": []
  },
  {
   "cell_type": "code",
   "execution_count": null,
   "id": "070ca684",
   "metadata": {},
   "outputs": [],
   "source": []
  }
 ],
 "metadata": {
  "kernelspec": {
   "display_name": "Python 3 (ipykernel)",
   "language": "python",
   "name": "python3"
  },
  "language_info": {
   "codemirror_mode": {
    "name": "ipython",
    "version": 3
   },
   "file_extension": ".py",
   "mimetype": "text/x-python",
   "name": "python",
   "nbconvert_exporter": "python",
   "pygments_lexer": "ipython3",
   "version": "3.8.20"
  }
 },
 "nbformat": 4,
 "nbformat_minor": 5
}
