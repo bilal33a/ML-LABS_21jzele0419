{
 "cells": [
  {
   "cell_type": "code",
   "execution_count": 1,
   "metadata": {},
   "outputs": [],
   "source": [
    "import os\n",
    "\n",
    "import sys  # <- This is necessary!\n",
    "\n",
    "# os.chdir('C:\\\\Users\\\\Administrator\\\\Downloads\\\\ML Lab')\n",
    "#sys.path.append(r'D:\\anaconda\\envs')\n",
    "sys.path.append(r'D:\\anaconda\\envs')"
   ]
  },
  {
   "cell_type": "code",
   "execution_count": 2,
   "metadata": {},
   "outputs": [],
   "source": [
    "from sklearn.metrics import mean_squared_error, mean_absolute_error, explained_variance_score, r2_score\n",
    "from timeseires.utils.to_split import to_split\n",
    "from timeseires.utils.multivariate_multi_step import multivariate_multi_step\n",
    "from timeseires.utils.multivariate_single_step import multivariate_single_step\n",
    "from timeseires.utils.univariate_multi_step import univariate_multi_step\n",
    "from timeseires.utils.univariate_single_step import univariate_single_step\n",
    "from timeseires.utils.CosineAnnealingLRS import CosineAnnealingLRS\n",
    "from timeseires.callbacks.EpochCheckpoint import EpochCheckpoint\n",
    "from tensorflow.keras.callbacks import ModelCheckpoint\n",
    "from timeseires.callbacks.TrainingMonitor import TrainingMonitor\n",
    "from tensorflow.keras.optimizers import Adam\n",
    "from tensorflow.keras.optimizers import SGD\n",
    "from tensorflow.keras.models import load_model\n",
    "from tensorflow.keras.layers import LSTM, Bidirectional, Add\n",
    "from tensorflow.keras.layers import BatchNormalization\n",
    "from tensorflow.keras.layers import Conv1D,TimeDistributed\n",
    "from tensorflow.keras.layers import Dense, Dropout, Activation, Flatten,MaxPooling1D,Concatenate,AveragePooling1D, GlobalMaxPooling1D, Input\n",
    "from tensorflow.keras.models import Sequential,Model\n",
    "import pandas as pd\n",
    "import time, pickle\n",
    "import numpy as np\n",
    "import tensorflow.keras.backend as K\n",
    "import tensorflow\n",
    "from tensorflow.keras.layers import Input, Reshape, Lambda\n",
    "from tensorflow.keras.layers import Layer, Flatten, LeakyReLU, concatenate, Dense\n",
    "from tensorflow.keras.regularizers import l2\n",
    "import glob\n",
    "import h5py\n",
    "import matplotlib.pyplot as plt\n",
    "from keras.callbacks import Callback"
   ]
  },
  {
   "cell_type": "code",
   "execution_count": 3,
   "metadata": {},
   "outputs": [],
   "source": [
    "#lookback = 24\n",
    "model = None\n",
    "start_epoch = 0\n",
    "time_steps=24\n",
    "num_features=21"
   ]
  },
  {
   "cell_type": "code",
   "execution_count": 4,
   "metadata": {},
   "outputs": [],
   "source": [
    "def create_lstm():\n",
    "    input_data = Input(shape=(time_steps, num_features))\n",
    "    lstm_layer1 = LSTM(8, return_sequences=True)(input_data)\n",
    "    lstm_layer2 = LSTM(20)(lstm_layer1)\n",
    "    x = Flatten()(lstm_layer2)\n",
    "    output_data = Dense(1)(x)\n",
    "    model = Model(input_data, output_data)\n",
    "    return model"
   ]
  },
  {
   "cell_type": "code",
   "execution_count": 5,
   "metadata": {},
   "outputs": [
    {
     "name": "stdout",
     "output_type": "stream",
     "text": [
      "Model: \"model\"\n",
      "_________________________________________________________________\n",
      " Layer (type)                Output Shape              Param #   \n",
      "=================================================================\n",
      " input_1 (InputLayer)        [(None, 24, 21)]          0         \n",
      "                                                                 \n",
      " lstm (LSTM)                 (None, 24, 8)             960       \n",
      "                                                                 \n",
      " lstm_1 (LSTM)               (None, 20)                2320      \n",
      "                                                                 \n",
      " flatten (Flatten)           (None, 20)                0         \n",
      "                                                                 \n",
      " dense (Dense)               (None, 1)                 21        \n",
      "                                                                 \n",
      "=================================================================\n",
      "Total params: 3,301\n",
      "Trainable params: 3,301\n",
      "Non-trainable params: 0\n",
      "_________________________________________________________________\n"
     ]
    }
   ],
   "source": [
    "model1 = create_lstm()\n",
    "model1.summary()"
   ]
  },
  {
   "cell_type": "code",
   "execution_count": 6,
   "metadata": {},
   "outputs": [
    {
     "data": {
      "image/png": "[encoded data removed]",
      "text/plain": [
       "<IPython.core.display.Image object>"
      ]
     },
     "execution_count": 6,
     "metadata": {},
     "output_type": "execute_result"
    }
   ],
   "source": [
    "tensorflow.keras.utils.plot_model(model1 )"
   ]
  },
  {
   "cell_type": "code",
   "execution_count": 7,
   "metadata": {},
   "outputs": [],
   "source": [
    "checkpoints = r'D:\\anaconda\\envs\\lab10\\checkpoint\\\\E1-cp-{epoch:04d}-loss{val_loss:.2f}.h5'\n",
    "OUTPUT_PATH = r'D:\\anaconda\\envs\\lab10\\checkpoint'\n",
    "FIG_PATH = os.path.sep.join([OUTPUT_PATH,\"\\history.png\"])\n",
    "JSON_PATH = os.path.sep.join([OUTPUT_PATH,\"\\history.json\"])"
   ]
  },
  {
   "cell_type": "code",
   "execution_count": 8,
   "metadata": {},
   "outputs": [],
   "source": [
    "# construct the callback to save only the *best* model to disk\n",
    "# based on the validation loss\n",
    "EpochCheckpoint1 = ModelCheckpoint(checkpoints,\n",
    "                             monitor=\"val_loss\",\n",
    "                             save_best_only=True, \n",
    "                             verbose=1)\n",
    "TrainingMonitor1=TrainingMonitor(FIG_PATH, jsonPath=JSON_PATH, startAt=start_epoch)\n",
    "\n",
    "# construct the set of callbacks\n",
    "callbacks = [EpochCheckpoint1,TrainingMonitor1]"
   ]
  },
  {
   "cell_type": "code",
   "execution_count": 9,
   "metadata": {},
   "outputs": [
    {
     "name": "stdout",
     "output_type": "stream",
     "text": [
      "[INFO] compiling model...\n"
     ]
    }
   ],
   "source": [
    "# if there is no specific model checkpoint supplied, then initialize\n",
    "# the network and compile the model\n",
    "if model is None:\n",
    "    print(\"[INFO] compiling model...\")\n",
    "    model =create_lstm()\n",
    "    opt = Adam(1e-3)\n",
    "    model.compile(loss= 'mae', optimizer=opt, metrics=[\"mae\", \"mape\"])\n",
    "# otherwise, load the checkpoint from disk\n",
    "else:\n",
    "    print(\"[INFO] loading {}...\".format(model))\n",
    "    model = load_model(model)\n",
    "\n",
    "    # update the learning rate\n",
    "    print(\"[INFO] old learning rate: {}\".format(K.get_value(model.optimizer.lr)))\n",
    "    K.set_value(model.optimizer.lr, 1e-4)\n",
    "    print(\"[INFO] new learning rate: {}\".format(K.get_value(model.optimizer.lr)))"
   ]
  },
  {
   "cell_type": "code",
   "execution_count": 11,
   "metadata": {},
   "outputs": [
    {
     "name": "stderr",
     "output_type": "stream",
     "text": [
      "D:\\anaconda\\envs\\MLLAB\\lib\\site-packages\\sklearn\\base.py:347: InconsistentVersionWarning: Trying to unpickle estimator MinMaxScaler from version 1.0.2 when using version 1.3.0. This might lead to breaking code or invalid results. Use at your own risk. For more info please refer to:\n",
      "https://scikit-learn.org/stable/model_persistence.html#security-maintainability-limitations\n",
      "  warnings.warn(\n"
     ]
    },
    {
     "data": {
      "text/plain": [
       "((84907, 21), (24259, 21), (12130, 21))"
      ]
     },
     "execution_count": 11,
     "metadata": {},
     "output_type": "execute_result"
    }
   ],
   "source": [
    "import os\n",
    "path_dataset ='D:\\\\anaconda\\\\envs\\\\lab10\\\\AEP_hourly\\\\processed'\n",
    "path_tr = os.path.join(path_dataset, 'AEP_train.csv')\n",
    "df_tr = pd.read_csv(path_tr)\n",
    "train_set = df_tr.iloc[:].values\n",
    "path_v = os.path.join(path_dataset, 'AEP_validation.csv')\n",
    "df_v = pd.read_csv(path_v)\n",
    "validation_set = df_v.iloc[:].values \n",
    "path_te = os.path.join(path_dataset, 'AEP_test.csv')\n",
    "df_te = pd.read_csv(path_te)\n",
    "test_set = df_te.iloc[:].values \n",
    "\n",
    "path_scaler = os.path.join(path_dataset, 'AEP_Scaler.pkl')\n",
    "scaler         = pickle.load(open(path_scaler, 'rb'))\n",
    "\n",
    "train_set.shape, validation_set.shape, test_set.shape"
   ]
  },
  {
   "cell_type": "code",
   "execution_count": 12,
   "metadata": {},
   "outputs": [],
   "source": [
    "time_steps=24\n",
    "num_features=21"
   ]
  },
  {
   "cell_type": "code",
   "execution_count": 13,
   "metadata": {},
   "outputs": [
    {
     "name": "stdout",
     "output_type": "stream",
     "text": [
      "Time Consumed 0.3319370746612549 sec\n"
     ]
    }
   ],
   "source": [
    "start = time.time()\n",
    "train_X , train_y = univariate_multi_step(train_set, time_steps, target_col=0,target_len=1)\n",
    "validation_X, validation_y = univariate_multi_step(validation_set, time_steps, target_col=0,target_len=1)\n",
    "test_X, test_y = univariate_multi_step(test_set, time_steps, target_col=0,target_len=1)\n",
    "print('Time Consumed', time.time()-start, \"sec\")"
   ]
  },
  {
   "cell_type": "code",
   "execution_count": 14,
   "metadata": {},
   "outputs": [
    {
     "name": "stdout",
     "output_type": "stream",
     "text": [
      "Epoch 1/40\n",
      "2651/2653 [============================>.] - ETA: 0s - loss: 0.0448 - mae: 0.0448 - mape: 1503.7800\n",
      "Epoch 1: val_loss improved from inf to 0.02639, saving model to D:\\anaconda\\envs\\lab10\\checkpoint\\E1-cp-0001-loss0.03.h5\n",
      "2653/2653 [==============================] - 26s 9ms/step - loss: 0.0448 - mae: 0.0448 - mape: 1502.8989 - val_loss: 0.0264 - val_mae: 0.0264 - val_mape: 13.5246\n",
      "Epoch 2/40\n",
      "2651/2653 [============================>.] - ETA: 0s - loss: 0.0184 - mae: 0.0184 - mape: 503.4261\n",
      "Epoch 2: val_loss improved from 0.02639 to 0.01593, saving model to D:\\anaconda\\envs\\lab10\\checkpoint\\E1-cp-0002-loss0.02.h5\n",
      "2653/2653 [==============================] - 24s 9ms/step - loss: 0.0184 - mae: 0.0184 - mape: 503.1326 - val_loss: 0.0159 - val_mae: 0.0159 - val_mape: 6.6718\n",
      "Epoch 3/40\n",
      "2653/2653 [==============================] - ETA: 0s - loss: 0.0130 - mae: 0.0130 - mape: 197.4489\n",
      "Epoch 3: val_loss improved from 0.01593 to 0.01114, saving model to D:\\anaconda\\envs\\lab10\\checkpoint\\E1-cp-0003-loss0.01.h5\n",
      "2653/2653 [==============================] - 25s 9ms/step - loss: 0.0130 - mae: 0.0130 - mape: 197.4489 - val_loss: 0.0111 - val_mae: 0.0111 - val_mape: 4.8204\n",
      "Epoch 4/40\n",
      "2648/2653 [============================>.] - ETA: 0s - loss: 0.0101 - mae: 0.0101 - mape: 292.6253\n",
      "Epoch 4: val_loss improved from 0.01114 to 0.01068, saving model to D:\\anaconda\\envs\\lab10\\checkpoint\\E1-cp-0004-loss0.01.h5\n",
      "2653/2653 [==============================] - 27s 10ms/step - loss: 0.0101 - mae: 0.0101 - mape: 292.1276 - val_loss: 0.0107 - val_mae: 0.0107 - val_mape: 4.3321\n",
      "Epoch 5/40\n",
      "2650/2653 [============================>.] - ETA: 0s - loss: 0.0093 - mae: 0.0093 - mape: 225.2758\n",
      "Epoch 5: val_loss improved from 0.01068 to 0.00898, saving model to D:\\anaconda\\envs\\lab10\\checkpoint\\E1-cp-0005-loss0.01.h5\n",
      "2653/2653 [==============================] - 28s 10ms/step - loss: 0.0093 - mae: 0.0093 - mape: 225.0603 - val_loss: 0.0090 - val_mae: 0.0090 - val_mape: 4.0812\n",
      "Epoch 6/40\n",
      "2649/2653 [============================>.] - ETA: 0s - loss: 0.0089 - mae: 0.0089 - mape: 168.3768\n",
      "Epoch 6: val_loss improved from 0.00898 to 0.00773, saving model to D:\\anaconda\\envs\\lab10\\checkpoint\\E1-cp-0006-loss0.01.h5\n",
      "2653/2653 [==============================] - 30s 11ms/step - loss: 0.0089 - mae: 0.0089 - mape: 168.1534 - val_loss: 0.0077 - val_mae: 0.0077 - val_mape: 3.6169\n",
      "Epoch 7/40\n",
      "2652/2653 [============================>.] - ETA: 0s - loss: 0.0085 - mae: 0.0085 - mape: 99.0884\n",
      "Epoch 7: val_loss did not improve from 0.00773\n",
      "2653/2653 [==============================] - 28s 11ms/step - loss: 0.0085 - mae: 0.0085 - mape: 99.0679 - val_loss: 0.0081 - val_mae: 0.0081 - val_mape: 3.6215\n",
      "Epoch 8/40\n",
      "2653/2653 [==============================] - ETA: 0s - loss: 0.0083 - mae: 0.0083 - mape: 147.6759\n",
      "Epoch 8: val_loss improved from 0.00773 to 0.00721, saving model to D:\\anaconda\\envs\\lab10\\checkpoint\\E1-cp-0008-loss0.01.h5\n",
      "2653/2653 [==============================] - 28s 11ms/step - loss: 0.0083 - mae: 0.0083 - mape: 147.6759 - val_loss: 0.0072 - val_mae: 0.0072 - val_mape: 3.0084\n",
      "Epoch 9/40\n",
      "2650/2653 [============================>.] - ETA: 0s - loss: 0.0081 - mae: 0.0081 - mape: 182.2874\n",
      "Epoch 9: val_loss did not improve from 0.00721\n",
      "2653/2653 [==============================] - 29s 11ms/step - loss: 0.0081 - mae: 0.0081 - mape: 182.1134 - val_loss: 0.0078 - val_mae: 0.0078 - val_mape: 3.3459\n",
      "Epoch 10/40\n",
      "2648/2653 [============================>.] - ETA: 0s - loss: 0.0079 - mae: 0.0079 - mape: 54.2018\n",
      "Epoch 10: val_loss did not improve from 0.00721\n",
      "2653/2653 [==============================] - 28s 10ms/step - loss: 0.0079 - mae: 0.0079 - mape: 54.1129 - val_loss: 0.0082 - val_mae: 0.0082 - val_mape: 3.4394\n",
      "Epoch 11/40\n",
      "2651/2653 [============================>.] - ETA: 0s - loss: 0.0079 - mae: 0.0079 - mape: 130.3816\n",
      "Epoch 11: val_loss did not improve from 0.00721\n",
      "2653/2653 [==============================] - 28s 11ms/step - loss: 0.0079 - mae: 0.0079 - mape: 130.3065 - val_loss: 0.0082 - val_mae: 0.0082 - val_mape: 3.5235\n",
      "Epoch 12/40\n",
      "2652/2653 [============================>.] - ETA: 0s - loss: 0.0077 - mae: 0.0077 - mape: 174.8236\n",
      "Epoch 12: val_loss did not improve from 0.00721\n",
      "2653/2653 [==============================] - 28s 11ms/step - loss: 0.0077 - mae: 0.0077 - mape: 174.7877 - val_loss: 0.0077 - val_mae: 0.0077 - val_mape: 3.3713\n",
      "Epoch 13/40\n",
      "2653/2653 [==============================] - ETA: 0s - loss: 0.0076 - mae: 0.0076 - mape: 160.6414\n",
      "Epoch 13: val_loss did not improve from 0.00721\n",
      "2653/2653 [==============================] - 28s 11ms/step - loss: 0.0076 - mae: 0.0076 - mape: 160.6414 - val_loss: 0.0076 - val_mae: 0.0076 - val_mape: 3.0804\n",
      "Epoch 14/40\n",
      "2648/2653 [============================>.] - ETA: 0s - loss: 0.0075 - mae: 0.0075 - mape: 119.5174\n",
      "Epoch 14: val_loss did not improve from 0.00721\n",
      "2653/2653 [==============================] - 28s 11ms/step - loss: 0.0075 - mae: 0.0075 - mape: 119.3163 - val_loss: 0.0075 - val_mae: 0.0075 - val_mape: 3.1033\n",
      "Epoch 15/40\n",
      "2653/2653 [==============================] - ETA: 0s - loss: 0.0074 - mae: 0.0074 - mape: 99.1862\n",
      "Epoch 15: val_loss improved from 0.00721 to 0.00693, saving model to D:\\anaconda\\envs\\lab10\\checkpoint\\E1-cp-0015-loss0.01.h5\n",
      "2653/2653 [==============================] - 28s 11ms/step - loss: 0.0074 - mae: 0.0074 - mape: 99.1862 - val_loss: 0.0069 - val_mae: 0.0069 - val_mape: 2.9277\n",
      "Epoch 16/40\n",
      "2651/2653 [============================>.] - ETA: 0s - loss: 0.0074 - mae: 0.0074 - mape: 198.9405\n",
      "Epoch 16: val_loss did not improve from 0.00693\n",
      "2653/2653 [==============================] - 28s 11ms/step - loss: 0.0074 - mae: 0.0074 - mape: 198.8243 - val_loss: 0.0070 - val_mae: 0.0070 - val_mape: 2.9566\n",
      "Epoch 17/40\n",
      "2653/2653 [==============================] - ETA: 0s - loss: 0.0073 - mae: 0.0073 - mape: 146.4919\n",
      "Epoch 17: val_loss improved from 0.00693 to 0.00657, saving model to D:\\anaconda\\envs\\lab10\\checkpoint\\E1-cp-0017-loss0.01.h5\n",
      "2653/2653 [==============================] - 29s 11ms/step - loss: 0.0073 - mae: 0.0073 - mape: 146.4919 - val_loss: 0.0066 - val_mae: 0.0066 - val_mape: 2.8013\n",
      "Epoch 18/40\n",
      "2649/2653 [============================>.] - ETA: 0s - loss: 0.0073 - mae: 0.0073 - mape: 137.5765\n",
      "Epoch 18: val_loss did not improve from 0.00657\n",
      "2653/2653 [==============================] - 28s 11ms/step - loss: 0.0073 - mae: 0.0073 - mape: 137.3948 - val_loss: 0.0078 - val_mae: 0.0078 - val_mape: 3.1472\n",
      "Epoch 19/40\n",
      "2649/2653 [============================>.] - ETA: 0s - loss: 0.0073 - mae: 0.0073 - mape: 131.4696\n",
      "Epoch 19: val_loss improved from 0.00657 to 0.00648, saving model to D:\\anaconda\\envs\\lab10\\checkpoint\\E1-cp-0019-loss0.01.h5\n",
      "2653/2653 [==============================] - 28s 11ms/step - loss: 0.0073 - mae: 0.0073 - mape: 131.2962 - val_loss: 0.0065 - val_mae: 0.0065 - val_mape: 2.6906\n",
      "Epoch 20/40\n",
      "2650/2653 [============================>.] - ETA: 0s - loss: 0.0072 - mae: 0.0072 - mape: 211.7608\n",
      "Epoch 20: val_loss did not improve from 0.00648\n",
      "2653/2653 [==============================] - 28s 10ms/step - loss: 0.0072 - mae: 0.0072 - mape: 211.5581 - val_loss: 0.0066 - val_mae: 0.0066 - val_mape: 2.7319\n",
      "Epoch 21/40\n",
      "2649/2653 [============================>.] - ETA: 0s - loss: 0.0071 - mae: 0.0071 - mape: 182.2677\n",
      "Epoch 21: val_loss did not improve from 0.00648\n",
      "2653/2653 [==============================] - 28s 11ms/step - loss: 0.0071 - mae: 0.0071 - mape: 182.0252 - val_loss: 0.0071 - val_mae: 0.0071 - val_mape: 3.2753\n",
      "Epoch 22/40\n",
      "2649/2653 [============================>.] - ETA: 0s - loss: 0.0071 - mae: 0.0071 - mape: 221.1210\n",
      "Epoch 22: val_loss did not improve from 0.00648\n",
      "2653/2653 [==============================] - 28s 11ms/step - loss: 0.0071 - mae: 0.0071 - mape: 220.8268 - val_loss: 0.0068 - val_mae: 0.0068 - val_mape: 2.8535\n",
      "Epoch 23/40\n",
      "2648/2653 [============================>.] - ETA: 0s - loss: 0.0071 - mae: 0.0071 - mape: 52.6109\n",
      "Epoch 23: val_loss did not improve from 0.00648\n",
      "2653/2653 [==============================] - 30s 11ms/step - loss: 0.0071 - mae: 0.0071 - mape: 52.5243 - val_loss: 0.0070 - val_mae: 0.0070 - val_mape: 3.4432\n",
      "Epoch 24/40\n",
      "2653/2653 [==============================] - ETA: 0s - loss: 0.0070 - mae: 0.0070 - mape: 60.4529\n",
      "Epoch 24: val_loss did not improve from 0.00648\n",
      "2653/2653 [==============================] - 29s 11ms/step - loss: 0.0070 - mae: 0.0070 - mape: 60.4529 - val_loss: 0.0067 - val_mae: 0.0067 - val_mape: 3.0285\n",
      "Epoch 25/40\n",
      "2650/2653 [============================>.] - ETA: 0s - loss: 0.0070 - mae: 0.0070 - mape: 183.2925\n",
      "Epoch 25: val_loss did not improve from 0.00648\n",
      "2653/2653 [==============================] - 29s 11ms/step - loss: 0.0070 - mae: 0.0070 - mape: 183.1183 - val_loss: 0.0077 - val_mae: 0.0077 - val_mape: 3.6537\n",
      "Epoch 26/40\n",
      "2648/2653 [============================>.] - ETA: 0s - loss: 0.0069 - mae: 0.0069 - mape: 57.6513\n",
      "Epoch 26: val_loss did not improve from 0.00648\n",
      "2653/2653 [==============================] - 30s 11ms/step - loss: 0.0069 - mae: 0.0069 - mape: 57.5574 - val_loss: 0.0065 - val_mae: 0.0065 - val_mape: 2.7061\n",
      "Epoch 27/40\n",
      "2649/2653 [============================>.] - ETA: 0s - loss: 0.0068 - mae: 0.0068 - mape: 142.0160\n",
      "Epoch 27: val_loss did not improve from 0.00648\n",
      "2653/2653 [==============================] - 30s 11ms/step - loss: 0.0069 - mae: 0.0069 - mape: 141.8283 - val_loss: 0.0069 - val_mae: 0.0069 - val_mape: 2.8835\n",
      "Epoch 28/40\n",
      "2653/2653 [==============================] - ETA: 0s - loss: 0.0069 - mae: 0.0069 - mape: 112.9201\n",
      "Epoch 28: val_loss did not improve from 0.00648\n",
      "2653/2653 [==============================] - 29s 11ms/step - loss: 0.0069 - mae: 0.0069 - mape: 112.9201 - val_loss: 0.0090 - val_mae: 0.0090 - val_mape: 4.4006\n",
      "Epoch 29/40\n",
      "2651/2653 [============================>.] - ETA: 0s - loss: 0.0068 - mae: 0.0068 - mape: 164.2527\n",
      "Epoch 29: val_loss did not improve from 0.00648\n",
      "2653/2653 [==============================] - 30s 11ms/step - loss: 0.0068 - mae: 0.0068 - mape: 164.1571 - val_loss: 0.0068 - val_mae: 0.0068 - val_mape: 2.8740\n",
      "Epoch 30/40\n",
      "2650/2653 [============================>.] - ETA: 0s - loss: 0.0068 - mae: 0.0068 - mape: 131.2392\n",
      "Epoch 30: val_loss did not improve from 0.00648\n",
      "2653/2653 [==============================] - 30s 11ms/step - loss: 0.0068 - mae: 0.0068 - mape: 131.1143 - val_loss: 0.0075 - val_mae: 0.0075 - val_mape: 3.5626\n",
      "Epoch 31/40\n",
      "2653/2653 [==============================] - ETA: 0s - loss: 0.0068 - mae: 0.0068 - mape: 53.3599\n",
      "Epoch 31: val_loss did not improve from 0.00648\n",
      "2653/2653 [==============================] - 29s 11ms/step - loss: 0.0068 - mae: 0.0068 - mape: 53.3599 - val_loss: 0.0067 - val_mae: 0.0067 - val_mape: 2.9252\n",
      "Epoch 32/40\n",
      "2653/2653 [==============================] - ETA: 0s - loss: 0.0068 - mae: 0.0068 - mape: 138.3485\n",
      "Epoch 32: val_loss did not improve from 0.00648\n",
      "2653/2653 [==============================] - 29s 11ms/step - loss: 0.0068 - mae: 0.0068 - mape: 138.3485 - val_loss: 0.0067 - val_mae: 0.0067 - val_mape: 2.9401\n",
      "Epoch 33/40\n",
      "2651/2653 [============================>.] - ETA: 0s - loss: 0.0067 - mae: 0.0067 - mape: 107.3022\n",
      "Epoch 33: val_loss did not improve from 0.00648\n",
      "2653/2653 [==============================] - 29s 11ms/step - loss: 0.0067 - mae: 0.0067 - mape: 107.2404 - val_loss: 0.0067 - val_mae: 0.0067 - val_mape: 2.6927\n",
      "Epoch 34/40\n",
      "2652/2653 [============================>.] - ETA: 0s - loss: 0.0067 - mae: 0.0067 - mape: 17.0910\n",
      "Epoch 34: val_loss did not improve from 0.00648\n",
      "2653/2653 [==============================] - 30s 11ms/step - loss: 0.0067 - mae: 0.0067 - mape: 17.0879 - val_loss: 0.0065 - val_mae: 0.0065 - val_mape: 2.8308\n",
      "Epoch 35/40\n",
      "2653/2653 [==============================] - ETA: 0s - loss: 0.0067 - mae: 0.0067 - mape: 84.3220\n",
      "Epoch 35: val_loss did not improve from 0.00648\n",
      "2653/2653 [==============================] - 30s 11ms/step - loss: 0.0067 - mae: 0.0067 - mape: 84.3220 - val_loss: 0.0069 - val_mae: 0.0069 - val_mape: 2.8642\n",
      "Epoch 36/40\n",
      "2652/2653 [============================>.] - ETA: 0s - loss: 0.0067 - mae: 0.0067 - mape: 67.1442\n",
      "Epoch 36: val_loss improved from 0.00648 to 0.00641, saving model to D:\\anaconda\\envs\\lab10\\checkpoint\\E1-cp-0036-loss0.01.h5\n",
      "2653/2653 [==============================] - 32s 12ms/step - loss: 0.0067 - mae: 0.0067 - mape: 67.1304 - val_loss: 0.0064 - val_mae: 0.0064 - val_mape: 2.6420\n",
      "Epoch 37/40\n",
      "2650/2653 [============================>.] - ETA: 0s - loss: 0.0066 - mae: 0.0066 - mape: 76.1815\n",
      "Epoch 37: val_loss did not improve from 0.00641\n",
      "2653/2653 [==============================] - 31s 12ms/step - loss: 0.0066 - mae: 0.0066 - mape: 76.1098 - val_loss: 0.0065 - val_mae: 0.0065 - val_mape: 2.7951\n",
      "Epoch 38/40\n",
      "2652/2653 [============================>.] - ETA: 0s - loss: 0.0066 - mae: 0.0066 - mape: 54.2660\n",
      "Epoch 38: val_loss did not improve from 0.00641\n",
      "2653/2653 [==============================] - 30s 11ms/step - loss: 0.0066 - mae: 0.0066 - mape: 54.2549 - val_loss: 0.0069 - val_mae: 0.0069 - val_mape: 2.9500\n",
      "Epoch 39/40\n",
      "2649/2653 [============================>.] - ETA: 0s - loss: 0.0066 - mae: 0.0066 - mape: 93.1642\n",
      "Epoch 39: val_loss did not improve from 0.00641\n",
      "2653/2653 [==============================] - 30s 11ms/step - loss: 0.0066 - mae: 0.0066 - mape: 93.0420 - val_loss: 0.0072 - val_mae: 0.0072 - val_mape: 2.9489\n",
      "Epoch 40/40\n",
      "2652/2653 [============================>.] - ETA: 0s - loss: 0.0066 - mae: 0.0066 - mape: 29.1470\n",
      "Epoch 40: val_loss improved from 0.00641 to 0.00622, saving model to D:\\anaconda\\envs\\lab10\\checkpoint\\E1-cp-0040-loss0.01.h5\n",
      "2653/2653 [==============================] - 30s 11ms/step - loss: 0.0066 - mae: 0.0066 - mape: 29.1413 - val_loss: 0.0062 - val_mae: 0.0062 - val_mape: 2.7306\n"
     ]
    }
   ],
   "source": [
    "epochs = 40\n",
    "verbose = 1 #0\n",
    "batch_size = 32\n",
    "History = model.fit(train_X,\n",
    "                        train_y,\n",
    "                        batch_size=batch_size,   \n",
    "                        epochs = epochs, \n",
    "                        validation_data = (validation_X,validation_y),\n",
    "                        callbacks=callbacks,verbose = verbose)"
   ]
  },
  {
   "cell_type": "code",
   "execution_count": 15,
   "metadata": {},
   "outputs": [
    {
     "name": "stdout",
     "output_type": "stream",
     "text": [
      "379/379 [==============================] - 1s 3ms/step\n",
      "Mean Absolute Error (MAE): 102.83\n",
      "Median Absolute Error (MedAE): 82.26\n",
      "Mean Squared Error (MSE): 18522.73\n",
      "Root Mean Squared Error (RMSE): 136.1\n",
      "Mean Absolute Percentage Error (MAPE): 0.71 %\n",
      "Median Absolute Percentage Error (MDAPE): 0.56 %\n",
      "\n",
      "\n",
      "y_test_unscaled.shape=  (12105, 1)\n",
      "y_pred.shape=  (12105, 1)\n"
     ]
    }
   ],
   "source": [
    "\n",
    "model = load_model(r'D:\\anaconda\\envs\\lab10\\checkpoint\\E1-cp-0040-loss0.01.h5')\n",
    "\n",
    "y_pred_scaled   = model.predict(test_X)\n",
    "y_pred          = scaler.inverse_transform(y_pred_scaled)\n",
    "y_test_unscaled = scaler.inverse_transform(test_y)\n",
    "# Mean Absolute Error (MAE)\n",
    "MAE = np.mean(abs(y_pred - y_test_unscaled)) \n",
    "print('Mean Absolute Error (MAE): ' + str(np.round(MAE, 2)))\n",
    "\n",
    "# Median Absolute Error (MedAE)\n",
    "MEDAE = np.median(abs(y_pred - y_test_unscaled))\n",
    "print('Median Absolute Error (MedAE): ' + str(np.round(MEDAE, 2)))\n",
    "\n",
    "# Mean Squared Error (MSE)\n",
    "MSE = np.square(np.subtract(y_pred, y_test_unscaled)).mean()\n",
    "print('Mean Squared Error (MSE): ' + str(np.round(MSE, 2)))\n",
    "\n",
    "# Root Mean Squarred Error (RMSE) \n",
    "RMSE = np.sqrt(np.mean(np.square(y_pred - y_test_unscaled)))\n",
    "print('Root Mean Squared Error (RMSE): ' + str(np.round(RMSE, 2)))\n",
    "\n",
    "# Mean Absolute Percentage Error (MAPE)\n",
    "MAPE = np.mean((np.abs(np.subtract(y_test_unscaled, y_pred)/ y_test_unscaled))) * 100\n",
    "print('Mean Absolute Percentage Error (MAPE): ' + str(np.round(MAPE, 2)) + ' %')\n",
    "\n",
    "# Median Absolute Percentage Error (MDAPE)\n",
    "MDAPE = np.median((np.abs(np.subtract(y_test_unscaled, y_pred)/ y_test_unscaled))) * 100\n",
    "print('Median Absolute Percentage Error (MDAPE): ' + str(np.round(MDAPE, 2)) + ' %')\n",
    "\n",
    "print('\\n\\ny_test_unscaled.shape= ',y_test_unscaled.shape)\n",
    "print('y_pred.shape= ',y_pred.shape)"
   ]
  },
  {
   "cell_type": "code",
   "execution_count": 16,
   "metadata": {},
   "outputs": [],
   "source": [
    "checkpoints = r'D:\\anaconda\\envs\\lab10\\checkpoint\\E2-cp-{epoch:04d}-loss{val_loss:.2f}.h5'\n",
    "model=r'D:\\anaconda\\envs\\lab10\\checkpoint\\E1-cp-0040-loss0.01.h5'\n",
    "start_epoch= 34"
   ]
  },
  {
   "cell_type": "code",
   "execution_count": 17,
   "metadata": {},
   "outputs": [
    {
     "name": "stdout",
     "output_type": "stream",
     "text": [
      "[INFO] loading D:\\anaconda\\envs\\lab10\\checkpoint\\E1-cp-0040-loss0.01.h5...\n",
      "[INFO] old learning rate: 0.0010000000474974513\n",
      "[INFO] new learning rate: 9.999999747378752e-05\n"
     ]
    }
   ],
   "source": [
    "# construct the callback to save only the *best* model to disk\n",
    "# based on the validation loss\n",
    "EpochCheckpoint1 = ModelCheckpoint(checkpoints,\n",
    "                             monitor=\"val_loss\",\n",
    "                             save_best_only=True, \n",
    "                             verbose=1)\n",
    "TrainingMonitor1=TrainingMonitor(FIG_PATH, jsonPath=JSON_PATH, startAt=start_epoch)\n",
    "\n",
    "# construct the set of callbacks\n",
    "callbacks = [EpochCheckpoint1,TrainingMonitor1]\n",
    "# if there is no specific model checkpoint supplied, then initialize\n",
    "# the network and compile the model\n",
    "if model is None:\n",
    "    print(\"[INFO] compiling model...\")\n",
    "    model = PC.build(time_steps=24, num_features=21, reg=0.0005)\n",
    "    opt = Adam(1e-3)\n",
    "    model.compile(loss= 'mae', optimizer=opt, metrics=[\"mae\", \"mape\"])\n",
    "# otherwise, load the checkpoint from disk\n",
    "else:\n",
    "    print(\"[INFO] loading {}...\".format(model))\n",
    "    model = load_model(model)\n",
    "\n",
    "    # update the learning rate\n",
    "    print(\"[INFO] old learning rate: {}\".format(K.get_value(model.optimizer.lr)))\n",
    "    K.set_value(model.optimizer.lr, 1e-4)\n",
    "    print(\"[INFO] new learning rate: {}\".format(K.get_value(model.optimizer.lr)))"
   ]
  },
  {
   "cell_type": "code",
   "execution_count": 18,
   "metadata": {},
   "outputs": [
    {
     "name": "stdout",
     "output_type": "stream",
     "text": [
      "Epoch 1/10\n",
      "2647/2653 [============================>.] - ETA: 0s - loss: 0.0058 - mae: 0.0058 - mape: 44.7768\n",
      "Epoch 1: val_loss improved from inf to 0.00588, saving model to D:\\anaconda\\envs\\lab10\\checkpoint\\E2-cp-0001-loss0.01.h5\n",
      "2653/2653 [==============================] - 25s 9ms/step - loss: 0.0058 - mae: 0.0058 - mape: 44.6866 - val_loss: 0.0059 - val_mae: 0.0059 - val_mape: 2.4539\n",
      "Epoch 2/10\n",
      "2649/2653 [============================>.] - ETA: 0s - loss: 0.0058 - mae: 0.0058 - mape: 11.3470\n",
      "Epoch 2: val_loss did not improve from 0.00588\n",
      "2653/2653 [==============================] - 28s 10ms/step - loss: 0.0058 - mae: 0.0058 - mape: 11.3341 - val_loss: 0.0060 - val_mae: 0.0060 - val_mape: 2.5547\n",
      "Epoch 3/10\n",
      "2651/2653 [============================>.] - ETA: 0s - loss: 0.0058 - mae: 0.0058 - mape: 10.5047\n",
      "Epoch 3: val_loss did not improve from 0.00588\n",
      "2653/2653 [==============================] - 28s 11ms/step - loss: 0.0058 - mae: 0.0058 - mape: 10.4996 - val_loss: 0.0059 - val_mae: 0.0059 - val_mape: 2.4663\n",
      "Epoch 4/10\n",
      "2649/2653 [============================>.] - ETA: 0s - loss: 0.0058 - mae: 0.0058 - mape: 19.1163\n",
      "Epoch 4: val_loss did not improve from 0.00588\n",
      "2653/2653 [==============================] - 28s 10ms/step - loss: 0.0058 - mae: 0.0058 - mape: 19.0936 - val_loss: 0.0060 - val_mae: 0.0060 - val_mape: 2.4934\n",
      "Epoch 5/10\n",
      "2653/2653 [==============================] - ETA: 0s - loss: 0.0058 - mae: 0.0058 - mape: 14.5348\n",
      "Epoch 5: val_loss improved from 0.00588 to 0.00587, saving model to D:\\anaconda\\envs\\lab10\\checkpoint\\E2-cp-0005-loss0.01.h5\n",
      "2653/2653 [==============================] - 31s 12ms/step - loss: 0.0058 - mae: 0.0058 - mape: 14.5348 - val_loss: 0.0059 - val_mae: 0.0059 - val_mape: 2.4460\n",
      "Epoch 6/10\n",
      "2651/2653 [============================>.] - ETA: 0s - loss: 0.0058 - mae: 0.0058 - mape: 11.2380\n",
      "Epoch 6: val_loss did not improve from 0.00587\n",
      "2653/2653 [==============================] - 29s 11ms/step - loss: 0.0058 - mae: 0.0058 - mape: 11.2326 - val_loss: 0.0059 - val_mae: 0.0059 - val_mape: 2.4443\n",
      "Epoch 7/10\n",
      "2648/2653 [============================>.] - ETA: 0s - loss: 0.0058 - mae: 0.0058 - mape: 18.6769\n",
      "Epoch 7: val_loss did not improve from 0.00587\n",
      "2653/2653 [==============================] - 29s 11ms/step - loss: 0.0058 - mae: 0.0058 - mape: 18.6476 - val_loss: 0.0060 - val_mae: 0.0060 - val_mape: 2.4687\n",
      "Epoch 8/10\n",
      "2648/2653 [============================>.] - ETA: 0s - loss: 0.0058 - mae: 0.0058 - mape: 29.0273\n",
      "Epoch 8: val_loss did not improve from 0.00587\n",
      "2653/2653 [==============================] - 29s 11ms/step - loss: 0.0058 - mae: 0.0058 - mape: 28.9808 - val_loss: 0.0060 - val_mae: 0.0060 - val_mape: 2.5597\n",
      "Epoch 9/10\n",
      "2650/2653 [============================>.] - ETA: 0s - loss: 0.0058 - mae: 0.0058 - mape: 2.7645\n",
      "Epoch 9: val_loss did not improve from 0.00587\n",
      "2653/2653 [==============================] - 28s 11ms/step - loss: 0.0058 - mae: 0.0058 - mape: 2.7636 - val_loss: 0.0060 - val_mae: 0.0060 - val_mape: 2.5365\n",
      "Epoch 10/10\n",
      "2653/2653 [==============================] - ETA: 0s - loss: 0.0058 - mae: 0.0058 - mape: 34.7690\n",
      "Epoch 10: val_loss did not improve from 0.00587\n",
      "2653/2653 [==============================] - 29s 11ms/step - loss: 0.0058 - mae: 0.0058 - mape: 34.7690 - val_loss: 0.0061 - val_mae: 0.0061 - val_mape: 2.5307\n"
     ]
    }
   ],
   "source": [
    "epochs = 10\n",
    "verbose = 1 #0\n",
    "batch_size = 32\n",
    "History = model.fit(train_X,\n",
    "                        train_y,\n",
    "                        batch_size=batch_size,   \n",
    "                        epochs = epochs, \n",
    "                        validation_data = (validation_X,validation_y),\n",
    "                        callbacks=callbacks,\n",
    "                        verbose = verbose)"
   ]
  },
  {
   "cell_type": "code",
   "execution_count": 19,
   "metadata": {},
   "outputs": [
    {
     "name": "stdout",
     "output_type": "stream",
     "text": [
      "379/379 [==============================] - 1s 3ms/step\n",
      "Mean Absolute Error (MAE): 98.59\n",
      "Median Absolute Error (MedAE): 75.95\n",
      "Mean Squared Error (MSE): 17563.58\n",
      "Root Mean Squared Error (RMSE): 132.53\n",
      "Mean Absolute Percentage Error (MAPE): 0.67 %\n",
      "Median Absolute Percentage Error (MDAPE): 0.53 %\n",
      "\n",
      "\n",
      "y_test_unscaled.shape=  (12105, 1)\n",
      "y_pred.shape=  (12105, 1)\n"
     ]
    }
   ],
   "source": [
    "\n",
    "model = load_model(r'D:\\anaconda\\envs\\lab10\\checkpoint\\E2-cp-0005-loss0.01.h5')\n",
    "\n",
    "y_pred_scaled   = model.predict(test_X)\n",
    "y_pred          = scaler.inverse_transform(y_pred_scaled)\n",
    "y_test_unscaled = scaler.inverse_transform(test_y)\n",
    "# Mean Absolute Error (MAE)\n",
    "MAE = np.mean(abs(y_pred - y_test_unscaled)) \n",
    "print('Mean Absolute Error (MAE): ' + str(np.round(MAE, 2)))\n",
    "\n",
    "# Median Absolute Error (MedAE)\n",
    "MEDAE = np.median(abs(y_pred - y_test_unscaled))\n",
    "print('Median Absolute Error (MedAE): ' + str(np.round(MEDAE, 2)))\n",
    "\n",
    "# Mean Squared Error (MSE)\n",
    "MSE = np.square(np.subtract(y_pred, y_test_unscaled)).mean()\n",
    "print('Mean Squared Error (MSE): ' + str(np.round(MSE, 2)))\n",
    "\n",
    "# Root Mean Squarred Error (RMSE) \n",
    "RMSE = np.sqrt(np.mean(np.square(y_pred - y_test_unscaled)))\n",
    "print('Root Mean Squared Error (RMSE): ' + str(np.round(RMSE, 2)))\n",
    "\n",
    "# Mean Absolute Percentage Error (MAPE)\n",
    "MAPE = np.mean((np.abs(np.subtract(y_test_unscaled, y_pred)/ y_test_unscaled))) * 100\n",
    "print('Mean Absolute Percentage Error (MAPE): ' + str(np.round(MAPE, 2)) + ' %')\n",
    "\n",
    "# Median Absolute Percentage Error (MDAPE)\n",
    "MDAPE = np.median((np.abs(np.subtract(y_test_unscaled, y_pred)/ y_test_unscaled))) * 100\n",
    "print('Median Absolute Percentage Error (MDAPE): ' + str(np.round(MDAPE, 2)) + ' %')\n",
    "\n",
    "print('\\n\\ny_test_unscaled.shape= ',y_test_unscaled.shape)\n",
    "print('y_pred.shape= ',y_pred.shape)"
   ]
  },
  {
   "cell_type": "code",
   "execution_count": null,
   "metadata": {},
   "outputs": [],
   "source": []
  }
 ],
 "metadata": {
  "kernelspec": {
   "display_name": "Python 3 (ipykernel)",
   "language": "python",
   "name": "python3"
  },
  "language_info": {
   "codemirror_mode": {
    "name": "ipython",
    "version": 3
   },
   "file_extension": ".py",
   "mimetype": "text/x-python",
   "name": "python",
   "nbconvert_exporter": "python",
   "pygments_lexer": "ipython3",
   "version": "3.8.20"
  }
 },
 "nbformat": 4,
 "nbformat_minor": 4
}
