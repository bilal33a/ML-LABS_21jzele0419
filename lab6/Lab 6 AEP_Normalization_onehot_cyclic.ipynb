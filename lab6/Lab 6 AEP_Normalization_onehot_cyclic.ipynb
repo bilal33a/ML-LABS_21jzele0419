{
 "cells": [
  {
   "cell_type": "code",
   "execution_count": 1,
   "id": "807e2259",
   "metadata": {
    "scrolled": true
   },
   "outputs": [],
   "source": [
    "import numpy as np\n",
    "import pandas as pd\n",
    "from pandas import read_csv\n",
    "import pickle\n",
    "from sklearn.preprocessing import MinMaxScaler, StandardScaler\n",
    "from sklearn.preprocessing import OneHotEncoder\n",
    "from timeseires.utils import t_v_t_split as sp"
   ]
  },
  {
   "cell_type": "code",
   "execution_count": 2,
   "id": "4b6329a4",
   "metadata": {},
   "outputs": [
    {
     "data": {
      "text/html": [
       "<div>\n",
       "<style scoped>\n",
       "    .dataframe tbody tr th:only-of-type {\n",
       "        vertical-align: middle;\n",
       "    }\n",
       "\n",
       "    .dataframe tbody tr th {\n",
       "        vertical-align: top;\n",
       "    }\n",
       "\n",
       "    .dataframe thead th {\n",
       "        text-align: right;\n",
       "    }\n",
       "</style>\n",
       "<table border=\"1\" class=\"dataframe\">\n",
       "  <thead>\n",
       "    <tr style=\"text-align: right;\">\n",
       "      <th></th>\n",
       "      <th>aep</th>\n",
       "      <th>year_day</th>\n",
       "      <th>holiday</th>\n",
       "      <th>weekend</th>\n",
       "      <th>winter</th>\n",
       "      <th>spring</th>\n",
       "      <th>summer</th>\n",
       "      <th>fall</th>\n",
       "      <th>hour</th>\n",
       "      <th>month</th>\n",
       "      <th>day_of_week</th>\n",
       "    </tr>\n",
       "    <tr>\n",
       "      <th>Datetime</th>\n",
       "      <th></th>\n",
       "      <th></th>\n",
       "      <th></th>\n",
       "      <th></th>\n",
       "      <th></th>\n",
       "      <th></th>\n",
       "      <th></th>\n",
       "      <th></th>\n",
       "      <th></th>\n",
       "      <th></th>\n",
       "      <th></th>\n",
       "    </tr>\n",
       "  </thead>\n",
       "  <tbody>\n",
       "    <tr>\n",
       "      <th>2004-12-31 01:00:00</th>\n",
       "      <td>13478.0</td>\n",
       "      <td>366</td>\n",
       "      <td>1</td>\n",
       "      <td>0</td>\n",
       "      <td>1</td>\n",
       "      <td>0</td>\n",
       "      <td>0</td>\n",
       "      <td>0</td>\n",
       "      <td>1</td>\n",
       "      <td>12</td>\n",
       "      <td>4</td>\n",
       "    </tr>\n",
       "    <tr>\n",
       "      <th>2004-12-31 02:00:00</th>\n",
       "      <td>12865.0</td>\n",
       "      <td>366</td>\n",
       "      <td>1</td>\n",
       "      <td>0</td>\n",
       "      <td>1</td>\n",
       "      <td>0</td>\n",
       "      <td>0</td>\n",
       "      <td>0</td>\n",
       "      <td>2</td>\n",
       "      <td>12</td>\n",
       "      <td>4</td>\n",
       "    </tr>\n",
       "    <tr>\n",
       "      <th>2004-12-31 03:00:00</th>\n",
       "      <td>12577.0</td>\n",
       "      <td>366</td>\n",
       "      <td>1</td>\n",
       "      <td>0</td>\n",
       "      <td>1</td>\n",
       "      <td>0</td>\n",
       "      <td>0</td>\n",
       "      <td>0</td>\n",
       "      <td>3</td>\n",
       "      <td>12</td>\n",
       "      <td>4</td>\n",
       "    </tr>\n",
       "    <tr>\n",
       "      <th>2004-12-31 04:00:00</th>\n",
       "      <td>12517.0</td>\n",
       "      <td>366</td>\n",
       "      <td>1</td>\n",
       "      <td>0</td>\n",
       "      <td>1</td>\n",
       "      <td>0</td>\n",
       "      <td>0</td>\n",
       "      <td>0</td>\n",
       "      <td>4</td>\n",
       "      <td>12</td>\n",
       "      <td>4</td>\n",
       "    </tr>\n",
       "    <tr>\n",
       "      <th>2004-12-31 05:00:00</th>\n",
       "      <td>12670.0</td>\n",
       "      <td>366</td>\n",
       "      <td>1</td>\n",
       "      <td>0</td>\n",
       "      <td>1</td>\n",
       "      <td>0</td>\n",
       "      <td>0</td>\n",
       "      <td>0</td>\n",
       "      <td>5</td>\n",
       "      <td>12</td>\n",
       "      <td>4</td>\n",
       "    </tr>\n",
       "  </tbody>\n",
       "</table>\n",
       "</div>"
      ],
      "text/plain": [
       "                         aep  year_day  holiday  weekend  winter  spring  \\\n",
       "Datetime                                                                   \n",
       "2004-12-31 01:00:00  13478.0       366        1        0       1       0   \n",
       "2004-12-31 02:00:00  12865.0       366        1        0       1       0   \n",
       "2004-12-31 03:00:00  12577.0       366        1        0       1       0   \n",
       "2004-12-31 04:00:00  12517.0       366        1        0       1       0   \n",
       "2004-12-31 05:00:00  12670.0       366        1        0       1       0   \n",
       "\n",
       "                     summer  fall  hour  month  day_of_week  \n",
       "Datetime                                                     \n",
       "2004-12-31 01:00:00       0     0     1     12            4  \n",
       "2004-12-31 02:00:00       0     0     2     12            4  \n",
       "2004-12-31 03:00:00       0     0     3     12            4  \n",
       "2004-12-31 04:00:00       0     0     4     12            4  \n",
       "2004-12-31 05:00:00       0     0     5     12            4  "
      ]
     },
     "execution_count": 2,
     "metadata": {},
     "output_type": "execute_result"
    }
   ],
   "source": [
    "df=pd.read_csv(r'D:\\anaconda\\envs\\lab4\\5_features_extracted.csv', index_col=['Datetime'], parse_dates=['Datetime'])\n",
    "df.head()"
   ]
  },
  {
   "cell_type": "code",
   "execution_count": 3,
   "id": "d680f9e8",
   "metadata": {},
   "outputs": [
    {
     "name": "stdout",
     "output_type": "stream",
     "text": [
      "<class 'pandas.core.frame.DataFrame'>\n",
      "DatetimeIndex: 121273 entries, 2004-12-31 01:00:00 to 2018-01-02 00:00:00\n",
      "Data columns (total 11 columns):\n",
      " #   Column       Non-Null Count   Dtype  \n",
      "---  ------       --------------   -----  \n",
      " 0   aep          121273 non-null  float64\n",
      " 1   year_day     121273 non-null  int64  \n",
      " 2   holiday      121273 non-null  int64  \n",
      " 3   weekend      121273 non-null  int64  \n",
      " 4   winter       121273 non-null  int64  \n",
      " 5   spring       121273 non-null  int64  \n",
      " 6   summer       121273 non-null  int64  \n",
      " 7   fall         121273 non-null  int64  \n",
      " 8   hour         121273 non-null  int64  \n",
      " 9   month        121273 non-null  int64  \n",
      " 10  day_of_week  121273 non-null  int64  \n",
      "dtypes: float64(1), int64(10)\n",
      "memory usage: 11.1 MB\n"
     ]
    }
   ],
   "source": [
    "df.info()"
   ]
  },
  {
   "cell_type": "markdown",
   "id": "7700e60f",
   "metadata": {},
   "source": [
    "# Function to split data For Training, Validation & Test"
   ]
  },
  {
   "cell_type": "markdown",
   "id": "24a93a3f",
   "metadata": {},
   "source": [
    "# tarin, test &  validation split"
   ]
  },
  {
   "cell_type": "code",
   "execution_count": 4,
   "id": "9e077c4f",
   "metadata": {},
   "outputs": [],
   "source": [
    "train_set , validation_set , test_set = sp.t_v_t(df,70,20,10)"
   ]
  },
  {
   "cell_type": "code",
   "execution_count": 5,
   "id": "883127ca",
   "metadata": {},
   "outputs": [
    {
     "name": "stdout",
     "output_type": "stream",
     "text": [
      "(84891, 11)\n",
      "(24255, 11)\n",
      "(12127, 11)\n"
     ]
    }
   ],
   "source": [
    "print(train_set.shape)\n",
    "print(validation_set.shape)\n",
    "print(test_set.shape)"
   ]
  },
  {
   "cell_type": "code",
   "execution_count": 6,
   "id": "17563de7",
   "metadata": {},
   "outputs": [
    {
     "data": {
      "text/plain": [
       "0"
      ]
     },
     "execution_count": 6,
     "metadata": {},
     "output_type": "execute_result"
    }
   ],
   "source": [
    "(84907+24259+12130)-121296"
   ]
  },
  {
   "cell_type": "code",
   "execution_count": 7,
   "id": "9f56e83c",
   "metadata": {},
   "outputs": [
    {
     "data": {
      "text/html": [
       "<div>\n",
       "<style scoped>\n",
       "    .dataframe tbody tr th:only-of-type {\n",
       "        vertical-align: middle;\n",
       "    }\n",
       "\n",
       "    .dataframe tbody tr th {\n",
       "        vertical-align: top;\n",
       "    }\n",
       "\n",
       "    .dataframe thead th {\n",
       "        text-align: right;\n",
       "    }\n",
       "</style>\n",
       "<table border=\"1\" class=\"dataframe\">\n",
       "  <thead>\n",
       "    <tr style=\"text-align: right;\">\n",
       "      <th></th>\n",
       "      <th>aep</th>\n",
       "      <th>year_day</th>\n",
       "      <th>holiday</th>\n",
       "      <th>weekend</th>\n",
       "      <th>winter</th>\n",
       "      <th>spring</th>\n",
       "      <th>summer</th>\n",
       "      <th>fall</th>\n",
       "      <th>hour</th>\n",
       "      <th>month</th>\n",
       "      <th>day_of_week</th>\n",
       "    </tr>\n",
       "    <tr>\n",
       "      <th>Datetime</th>\n",
       "      <th></th>\n",
       "      <th></th>\n",
       "      <th></th>\n",
       "      <th></th>\n",
       "      <th></th>\n",
       "      <th></th>\n",
       "      <th></th>\n",
       "      <th></th>\n",
       "      <th></th>\n",
       "      <th></th>\n",
       "      <th></th>\n",
       "    </tr>\n",
       "  </thead>\n",
       "  <tbody>\n",
       "    <tr>\n",
       "      <th>2017-10-19 16:00:00</th>\n",
       "      <td>14053.0</td>\n",
       "      <td>292</td>\n",
       "      <td>0</td>\n",
       "      <td>0</td>\n",
       "      <td>0</td>\n",
       "      <td>0</td>\n",
       "      <td>0</td>\n",
       "      <td>1</td>\n",
       "      <td>16</td>\n",
       "      <td>10</td>\n",
       "      <td>3</td>\n",
       "    </tr>\n",
       "    <tr>\n",
       "      <th>2017-10-19 17:00:00</th>\n",
       "      <td>13973.0</td>\n",
       "      <td>292</td>\n",
       "      <td>0</td>\n",
       "      <td>0</td>\n",
       "      <td>0</td>\n",
       "      <td>0</td>\n",
       "      <td>0</td>\n",
       "      <td>1</td>\n",
       "      <td>17</td>\n",
       "      <td>10</td>\n",
       "      <td>3</td>\n",
       "    </tr>\n",
       "    <tr>\n",
       "      <th>2017-10-19 18:00:00</th>\n",
       "      <td>13863.0</td>\n",
       "      <td>292</td>\n",
       "      <td>0</td>\n",
       "      <td>0</td>\n",
       "      <td>0</td>\n",
       "      <td>0</td>\n",
       "      <td>0</td>\n",
       "      <td>1</td>\n",
       "      <td>18</td>\n",
       "      <td>10</td>\n",
       "      <td>3</td>\n",
       "    </tr>\n",
       "    <tr>\n",
       "      <th>2017-10-19 19:00:00</th>\n",
       "      <td>13844.0</td>\n",
       "      <td>292</td>\n",
       "      <td>0</td>\n",
       "      <td>0</td>\n",
       "      <td>0</td>\n",
       "      <td>0</td>\n",
       "      <td>0</td>\n",
       "      <td>1</td>\n",
       "      <td>19</td>\n",
       "      <td>10</td>\n",
       "      <td>3</td>\n",
       "    </tr>\n",
       "    <tr>\n",
       "      <th>2017-10-19 20:00:00</th>\n",
       "      <td>14390.0</td>\n",
       "      <td>292</td>\n",
       "      <td>0</td>\n",
       "      <td>0</td>\n",
       "      <td>0</td>\n",
       "      <td>0</td>\n",
       "      <td>0</td>\n",
       "      <td>1</td>\n",
       "      <td>20</td>\n",
       "      <td>10</td>\n",
       "      <td>3</td>\n",
       "    </tr>\n",
       "    <tr>\n",
       "      <th>...</th>\n",
       "      <td>...</td>\n",
       "      <td>...</td>\n",
       "      <td>...</td>\n",
       "      <td>...</td>\n",
       "      <td>...</td>\n",
       "      <td>...</td>\n",
       "      <td>...</td>\n",
       "      <td>...</td>\n",
       "      <td>...</td>\n",
       "      <td>...</td>\n",
       "      <td>...</td>\n",
       "    </tr>\n",
       "    <tr>\n",
       "      <th>2018-01-01 20:00:00</th>\n",
       "      <td>21089.0</td>\n",
       "      <td>1</td>\n",
       "      <td>1</td>\n",
       "      <td>0</td>\n",
       "      <td>1</td>\n",
       "      <td>0</td>\n",
       "      <td>0</td>\n",
       "      <td>0</td>\n",
       "      <td>20</td>\n",
       "      <td>1</td>\n",
       "      <td>0</td>\n",
       "    </tr>\n",
       "    <tr>\n",
       "      <th>2018-01-01 21:00:00</th>\n",
       "      <td>20999.0</td>\n",
       "      <td>1</td>\n",
       "      <td>1</td>\n",
       "      <td>0</td>\n",
       "      <td>1</td>\n",
       "      <td>0</td>\n",
       "      <td>0</td>\n",
       "      <td>0</td>\n",
       "      <td>21</td>\n",
       "      <td>1</td>\n",
       "      <td>0</td>\n",
       "    </tr>\n",
       "    <tr>\n",
       "      <th>2018-01-01 22:00:00</th>\n",
       "      <td>20820.0</td>\n",
       "      <td>1</td>\n",
       "      <td>1</td>\n",
       "      <td>0</td>\n",
       "      <td>1</td>\n",
       "      <td>0</td>\n",
       "      <td>0</td>\n",
       "      <td>0</td>\n",
       "      <td>22</td>\n",
       "      <td>1</td>\n",
       "      <td>0</td>\n",
       "    </tr>\n",
       "    <tr>\n",
       "      <th>2018-01-01 23:00:00</th>\n",
       "      <td>20415.0</td>\n",
       "      <td>1</td>\n",
       "      <td>1</td>\n",
       "      <td>0</td>\n",
       "      <td>1</td>\n",
       "      <td>0</td>\n",
       "      <td>0</td>\n",
       "      <td>0</td>\n",
       "      <td>23</td>\n",
       "      <td>1</td>\n",
       "      <td>0</td>\n",
       "    </tr>\n",
       "    <tr>\n",
       "      <th>2018-01-02 00:00:00</th>\n",
       "      <td>19993.0</td>\n",
       "      <td>2</td>\n",
       "      <td>0</td>\n",
       "      <td>0</td>\n",
       "      <td>1</td>\n",
       "      <td>0</td>\n",
       "      <td>0</td>\n",
       "      <td>0</td>\n",
       "      <td>0</td>\n",
       "      <td>1</td>\n",
       "      <td>1</td>\n",
       "    </tr>\n",
       "  </tbody>\n",
       "</table>\n",
       "<p>12127 rows × 11 columns</p>\n",
       "</div>"
      ],
      "text/plain": [
       "                         aep  year_day  holiday  weekend  winter  spring  \\\n",
       "Datetime                                                                   \n",
       "2017-10-19 16:00:00  14053.0       292        0        0       0       0   \n",
       "2017-10-19 17:00:00  13973.0       292        0        0       0       0   \n",
       "2017-10-19 18:00:00  13863.0       292        0        0       0       0   \n",
       "2017-10-19 19:00:00  13844.0       292        0        0       0       0   \n",
       "2017-10-19 20:00:00  14390.0       292        0        0       0       0   \n",
       "...                      ...       ...      ...      ...     ...     ...   \n",
       "2018-01-01 20:00:00  21089.0         1        1        0       1       0   \n",
       "2018-01-01 21:00:00  20999.0         1        1        0       1       0   \n",
       "2018-01-01 22:00:00  20820.0         1        1        0       1       0   \n",
       "2018-01-01 23:00:00  20415.0         1        1        0       1       0   \n",
       "2018-01-02 00:00:00  19993.0         2        0        0       1       0   \n",
       "\n",
       "                     summer  fall  hour  month  day_of_week  \n",
       "Datetime                                                     \n",
       "2017-10-19 16:00:00       0     1    16     10            3  \n",
       "2017-10-19 17:00:00       0     1    17     10            3  \n",
       "2017-10-19 18:00:00       0     1    18     10            3  \n",
       "2017-10-19 19:00:00       0     1    19     10            3  \n",
       "2017-10-19 20:00:00       0     1    20     10            3  \n",
       "...                     ...   ...   ...    ...          ...  \n",
       "2018-01-01 20:00:00       0     0    20      1            0  \n",
       "2018-01-01 21:00:00       0     0    21      1            0  \n",
       "2018-01-01 22:00:00       0     0    22      1            0  \n",
       "2018-01-01 23:00:00       0     0    23      1            0  \n",
       "2018-01-02 00:00:00       0     0     0      1            1  \n",
       "\n",
       "[12127 rows x 11 columns]"
      ]
     },
     "execution_count": 7,
     "metadata": {},
     "output_type": "execute_result"
    }
   ],
   "source": [
    "test_set"
   ]
  },
  {
   "cell_type": "markdown",
   "id": "1c3b4713",
   "metadata": {},
   "source": [
    "# Train"
   ]
  },
  {
   "cell_type": "markdown",
   "id": "03f8848b",
   "metadata": {},
   "source": [
    "##### MinMax"
   ]
  },
  {
   "cell_type": "code",
   "execution_count": 8,
   "id": "08ad8c5e",
   "metadata": {},
   "outputs": [
    {
     "data": {
      "text/plain": [
       "(84891, 1)"
      ]
     },
     "execution_count": 8,
     "metadata": {},
     "output_type": "execute_result"
    }
   ],
   "source": [
    "train_set_load             = train_set['aep'].values.reshape(-1, 1)              \n",
    "validation_set_load        = validation_set['aep'].values.reshape(-1, 1)\n",
    "test_set_load              = test_set['aep'].values.reshape(-1, 1)\n",
    "#.........................................................................\n",
    "scaler = MinMaxScaler(feature_range=(0, 1))\n",
    "scaler.fit(train_set_load)\n",
    "#scaler = StandardScaler()\n",
    "#scaler.fit(train_set_load)\n",
    "#.........................................................................\n",
    "scaled_train_set_load      = scaler.transform(train_set_load)\n",
    "scaled_validation_set_load = scaler.transform(validation_set_load)\n",
    "scaled_test_set_load       = scaler.transform(test_set_load)\n",
    "pickle.dump(scaler, open (\"AEPscaler.pkl\",'wb') )\n",
    "scaled_train_set_load.shape"
   ]
  },
  {
   "cell_type": "code",
   "execution_count": 9,
   "id": "ef15cb4d",
   "metadata": {},
   "outputs": [
    {
     "data": {
      "text/plain": [
       "(84891, 1)"
      ]
     },
     "execution_count": 9,
     "metadata": {},
     "output_type": "execute_result"
    }
   ],
   "source": [
    "\n",
    "train_numerical = scaled_train_set_load\n",
    "train_numerical.shape"
   ]
  },
  {
   "cell_type": "code",
   "execution_count": 10,
   "id": "074b27bd",
   "metadata": {},
   "outputs": [
    {
     "data": {
      "text/html": [
       "<div>\n",
       "<style scoped>\n",
       "    .dataframe tbody tr th:only-of-type {\n",
       "        vertical-align: middle;\n",
       "    }\n",
       "\n",
       "    .dataframe tbody tr th {\n",
       "        vertical-align: top;\n",
       "    }\n",
       "\n",
       "    .dataframe thead th {\n",
       "        text-align: right;\n",
       "    }\n",
       "</style>\n",
       "<table border=\"1\" class=\"dataframe\">\n",
       "  <thead>\n",
       "    <tr style=\"text-align: right;\">\n",
       "      <th></th>\n",
       "      <th>aep</th>\n",
       "      <th>year_day</th>\n",
       "      <th>holiday</th>\n",
       "      <th>weekend</th>\n",
       "      <th>winter</th>\n",
       "      <th>spring</th>\n",
       "      <th>summer</th>\n",
       "      <th>fall</th>\n",
       "      <th>hour</th>\n",
       "      <th>month</th>\n",
       "      <th>day_of_week</th>\n",
       "    </tr>\n",
       "  </thead>\n",
       "  <tbody>\n",
       "    <tr>\n",
       "      <th>count</th>\n",
       "      <td>84891.000000</td>\n",
       "      <td>84891.000000</td>\n",
       "      <td>84891.000000</td>\n",
       "      <td>84891.000000</td>\n",
       "      <td>84891.000000</td>\n",
       "      <td>84891.000000</td>\n",
       "      <td>84891.000000</td>\n",
       "      <td>84891.000000</td>\n",
       "      <td>84891.000000</td>\n",
       "      <td>84891.000000</td>\n",
       "      <td>84891.00000</td>\n",
       "    </tr>\n",
       "    <tr>\n",
       "      <th>mean</th>\n",
       "      <td>15746.940341</td>\n",
       "      <td>191.298465</td>\n",
       "      <td>0.052326</td>\n",
       "      <td>0.285872</td>\n",
       "      <td>0.247093</td>\n",
       "      <td>0.233982</td>\n",
       "      <td>0.244525</td>\n",
       "      <td>0.274399</td>\n",
       "      <td>11.502268</td>\n",
       "      <td>6.790508</td>\n",
       "      <td>2.99927</td>\n",
       "    </tr>\n",
       "    <tr>\n",
       "      <th>std</th>\n",
       "      <td>2537.397092</td>\n",
       "      <td>106.488215</td>\n",
       "      <td>0.222685</td>\n",
       "      <td>0.451832</td>\n",
       "      <td>0.431324</td>\n",
       "      <td>0.423364</td>\n",
       "      <td>0.429808</td>\n",
       "      <td>0.446214</td>\n",
       "      <td>6.921566</td>\n",
       "      <td>3.482326</td>\n",
       "      <td>2.00073</td>\n",
       "    </tr>\n",
       "    <tr>\n",
       "      <th>min</th>\n",
       "      <td>9669.000000</td>\n",
       "      <td>1.000000</td>\n",
       "      <td>0.000000</td>\n",
       "      <td>0.000000</td>\n",
       "      <td>0.000000</td>\n",
       "      <td>0.000000</td>\n",
       "      <td>0.000000</td>\n",
       "      <td>0.000000</td>\n",
       "      <td>0.000000</td>\n",
       "      <td>1.000000</td>\n",
       "      <td>0.00000</td>\n",
       "    </tr>\n",
       "    <tr>\n",
       "      <th>25%</th>\n",
       "      <td>13921.000000</td>\n",
       "      <td>99.000000</td>\n",
       "      <td>0.000000</td>\n",
       "      <td>0.000000</td>\n",
       "      <td>0.000000</td>\n",
       "      <td>0.000000</td>\n",
       "      <td>0.000000</td>\n",
       "      <td>0.000000</td>\n",
       "      <td>6.000000</td>\n",
       "      <td>4.000000</td>\n",
       "      <td>1.00000</td>\n",
       "    </tr>\n",
       "    <tr>\n",
       "      <th>50%</th>\n",
       "      <td>15578.000000</td>\n",
       "      <td>197.000000</td>\n",
       "      <td>0.000000</td>\n",
       "      <td>0.000000</td>\n",
       "      <td>0.000000</td>\n",
       "      <td>0.000000</td>\n",
       "      <td>0.000000</td>\n",
       "      <td>0.000000</td>\n",
       "      <td>12.000000</td>\n",
       "      <td>7.000000</td>\n",
       "      <td>3.00000</td>\n",
       "    </tr>\n",
       "    <tr>\n",
       "      <th>75%</th>\n",
       "      <td>17409.000000</td>\n",
       "      <td>285.000000</td>\n",
       "      <td>0.000000</td>\n",
       "      <td>1.000000</td>\n",
       "      <td>0.000000</td>\n",
       "      <td>0.000000</td>\n",
       "      <td>0.000000</td>\n",
       "      <td>1.000000</td>\n",
       "      <td>18.000000</td>\n",
       "      <td>10.000000</td>\n",
       "      <td>5.00000</td>\n",
       "    </tr>\n",
       "    <tr>\n",
       "      <th>max</th>\n",
       "      <td>22554.000000</td>\n",
       "      <td>366.000000</td>\n",
       "      <td>1.000000</td>\n",
       "      <td>1.000000</td>\n",
       "      <td>1.000000</td>\n",
       "      <td>1.000000</td>\n",
       "      <td>1.000000</td>\n",
       "      <td>1.000000</td>\n",
       "      <td>23.000000</td>\n",
       "      <td>12.000000</td>\n",
       "      <td>6.00000</td>\n",
       "    </tr>\n",
       "  </tbody>\n",
       "</table>\n",
       "</div>"
      ],
      "text/plain": [
       "                aep      year_day       holiday       weekend        winter  \\\n",
       "count  84891.000000  84891.000000  84891.000000  84891.000000  84891.000000   \n",
       "mean   15746.940341    191.298465      0.052326      0.285872      0.247093   \n",
       "std     2537.397092    106.488215      0.222685      0.451832      0.431324   \n",
       "min     9669.000000      1.000000      0.000000      0.000000      0.000000   \n",
       "25%    13921.000000     99.000000      0.000000      0.000000      0.000000   \n",
       "50%    15578.000000    197.000000      0.000000      0.000000      0.000000   \n",
       "75%    17409.000000    285.000000      0.000000      1.000000      0.000000   \n",
       "max    22554.000000    366.000000      1.000000      1.000000      1.000000   \n",
       "\n",
       "             spring        summer          fall          hour         month  \\\n",
       "count  84891.000000  84891.000000  84891.000000  84891.000000  84891.000000   \n",
       "mean       0.233982      0.244525      0.274399     11.502268      6.790508   \n",
       "std        0.423364      0.429808      0.446214      6.921566      3.482326   \n",
       "min        0.000000      0.000000      0.000000      0.000000      1.000000   \n",
       "25%        0.000000      0.000000      0.000000      6.000000      4.000000   \n",
       "50%        0.000000      0.000000      0.000000     12.000000      7.000000   \n",
       "75%        0.000000      0.000000      1.000000     18.000000     10.000000   \n",
       "max        1.000000      1.000000      1.000000     23.000000     12.000000   \n",
       "\n",
       "       day_of_week  \n",
       "count  84891.00000  \n",
       "mean       2.99927  \n",
       "std        2.00073  \n",
       "min        0.00000  \n",
       "25%        1.00000  \n",
       "50%        3.00000  \n",
       "75%        5.00000  \n",
       "max        6.00000  "
      ]
     },
     "execution_count": 10,
     "metadata": {},
     "output_type": "execute_result"
    }
   ],
   "source": [
    "train_set.describe()"
   ]
  },
  {
   "cell_type": "code",
   "execution_count": 11,
   "id": "b401ca14",
   "metadata": {},
   "outputs": [
    {
     "data": {
      "text/plain": [
       "0.21028943896950414"
      ]
     },
     "execution_count": 11,
     "metadata": {},
     "output_type": "execute_result"
    }
   ],
   "source": [
    "(12379.-9669.)/(22556.0-9669)"
   ]
  },
  {
   "cell_type": "code",
   "execution_count": 12,
   "id": "71d6a92f",
   "metadata": {},
   "outputs": [
    {
     "data": {
      "text/plain": [
       "array([[0.29561506],\n",
       "       [0.24804036],\n",
       "       [0.22568879],\n",
       "       ...,\n",
       "       [0.49088087],\n",
       "       [0.47923943],\n",
       "       [0.42002328]])"
      ]
     },
     "execution_count": 12,
     "metadata": {},
     "output_type": "execute_result"
    }
   ],
   "source": [
    "train_numerical"
   ]
  },
  {
   "cell_type": "markdown",
   "id": "e21ea5f3",
   "metadata": {},
   "source": [
    "##### OneHot Encoding"
   ]
  },
  {
   "cell_type": "code",
   "execution_count": 13,
   "id": "88df710e",
   "metadata": {},
   "outputs": [
    {
     "data": {
      "text/plain": [
       "Index(['aep', 'year_day', 'holiday', 'weekend', 'winter', 'spring', 'summer',\n",
       "       'fall', 'hour', 'month', 'day_of_week'],\n",
       "      dtype='object')"
      ]
     },
     "execution_count": 13,
     "metadata": {},
     "output_type": "execute_result"
    }
   ],
   "source": [
    "df.columns"
   ]
  },
  {
   "cell_type": "code",
   "execution_count": 14,
   "id": "91111dfc",
   "metadata": {},
   "outputs": [
    {
     "data": {
      "text/plain": [
       "('holiday', 'weekend')"
      ]
     },
     "execution_count": 14,
     "metadata": {},
     "output_type": "execute_result"
    }
   ],
   "source": [
    "_=df.columns\n",
    "_[2],_[3]"
   ]
  },
  {
   "cell_type": "code",
   "execution_count": 15,
   "id": "e0b83e14",
   "metadata": {},
   "outputs": [
    {
     "data": {
      "text/html": [
       "<div>\n",
       "<style scoped>\n",
       "    .dataframe tbody tr th:only-of-type {\n",
       "        vertical-align: middle;\n",
       "    }\n",
       "\n",
       "    .dataframe tbody tr th {\n",
       "        vertical-align: top;\n",
       "    }\n",
       "\n",
       "    .dataframe thead th {\n",
       "        text-align: right;\n",
       "    }\n",
       "</style>\n",
       "<table border=\"1\" class=\"dataframe\">\n",
       "  <thead>\n",
       "    <tr style=\"text-align: right;\">\n",
       "      <th></th>\n",
       "      <th>aep</th>\n",
       "      <th>year_day</th>\n",
       "      <th>holiday</th>\n",
       "      <th>weekend</th>\n",
       "      <th>winter</th>\n",
       "      <th>spring</th>\n",
       "      <th>summer</th>\n",
       "      <th>fall</th>\n",
       "      <th>hour</th>\n",
       "      <th>month</th>\n",
       "      <th>day_of_week</th>\n",
       "    </tr>\n",
       "    <tr>\n",
       "      <th>Datetime</th>\n",
       "      <th></th>\n",
       "      <th></th>\n",
       "      <th></th>\n",
       "      <th></th>\n",
       "      <th></th>\n",
       "      <th></th>\n",
       "      <th></th>\n",
       "      <th></th>\n",
       "      <th></th>\n",
       "      <th></th>\n",
       "      <th></th>\n",
       "    </tr>\n",
       "  </thead>\n",
       "  <tbody>\n",
       "    <tr>\n",
       "      <th>2004-12-31 01:00:00</th>\n",
       "      <td>13478.0</td>\n",
       "      <td>366</td>\n",
       "      <td>1</td>\n",
       "      <td>0</td>\n",
       "      <td>1</td>\n",
       "      <td>0</td>\n",
       "      <td>0</td>\n",
       "      <td>0</td>\n",
       "      <td>1</td>\n",
       "      <td>12</td>\n",
       "      <td>4</td>\n",
       "    </tr>\n",
       "    <tr>\n",
       "      <th>2004-12-31 02:00:00</th>\n",
       "      <td>12865.0</td>\n",
       "      <td>366</td>\n",
       "      <td>1</td>\n",
       "      <td>0</td>\n",
       "      <td>1</td>\n",
       "      <td>0</td>\n",
       "      <td>0</td>\n",
       "      <td>0</td>\n",
       "      <td>2</td>\n",
       "      <td>12</td>\n",
       "      <td>4</td>\n",
       "    </tr>\n",
       "    <tr>\n",
       "      <th>2004-12-31 03:00:00</th>\n",
       "      <td>12577.0</td>\n",
       "      <td>366</td>\n",
       "      <td>1</td>\n",
       "      <td>0</td>\n",
       "      <td>1</td>\n",
       "      <td>0</td>\n",
       "      <td>0</td>\n",
       "      <td>0</td>\n",
       "      <td>3</td>\n",
       "      <td>12</td>\n",
       "      <td>4</td>\n",
       "    </tr>\n",
       "    <tr>\n",
       "      <th>2004-12-31 04:00:00</th>\n",
       "      <td>12517.0</td>\n",
       "      <td>366</td>\n",
       "      <td>1</td>\n",
       "      <td>0</td>\n",
       "      <td>1</td>\n",
       "      <td>0</td>\n",
       "      <td>0</td>\n",
       "      <td>0</td>\n",
       "      <td>4</td>\n",
       "      <td>12</td>\n",
       "      <td>4</td>\n",
       "    </tr>\n",
       "    <tr>\n",
       "      <th>2004-12-31 05:00:00</th>\n",
       "      <td>12670.0</td>\n",
       "      <td>366</td>\n",
       "      <td>1</td>\n",
       "      <td>0</td>\n",
       "      <td>1</td>\n",
       "      <td>0</td>\n",
       "      <td>0</td>\n",
       "      <td>0</td>\n",
       "      <td>5</td>\n",
       "      <td>12</td>\n",
       "      <td>4</td>\n",
       "    </tr>\n",
       "    <tr>\n",
       "      <th>...</th>\n",
       "      <td>...</td>\n",
       "      <td>...</td>\n",
       "      <td>...</td>\n",
       "      <td>...</td>\n",
       "      <td>...</td>\n",
       "      <td>...</td>\n",
       "      <td>...</td>\n",
       "      <td>...</td>\n",
       "      <td>...</td>\n",
       "      <td>...</td>\n",
       "      <td>...</td>\n",
       "    </tr>\n",
       "    <tr>\n",
       "      <th>2014-07-26 19:00:00</th>\n",
       "      <td>16710.0</td>\n",
       "      <td>207</td>\n",
       "      <td>0</td>\n",
       "      <td>1</td>\n",
       "      <td>0</td>\n",
       "      <td>0</td>\n",
       "      <td>1</td>\n",
       "      <td>0</td>\n",
       "      <td>19</td>\n",
       "      <td>7</td>\n",
       "      <td>5</td>\n",
       "    </tr>\n",
       "    <tr>\n",
       "      <th>2014-07-26 20:00:00</th>\n",
       "      <td>16259.0</td>\n",
       "      <td>207</td>\n",
       "      <td>0</td>\n",
       "      <td>1</td>\n",
       "      <td>0</td>\n",
       "      <td>0</td>\n",
       "      <td>1</td>\n",
       "      <td>0</td>\n",
       "      <td>20</td>\n",
       "      <td>7</td>\n",
       "      <td>5</td>\n",
       "    </tr>\n",
       "    <tr>\n",
       "      <th>2014-07-26 21:00:00</th>\n",
       "      <td>15994.0</td>\n",
       "      <td>207</td>\n",
       "      <td>0</td>\n",
       "      <td>1</td>\n",
       "      <td>0</td>\n",
       "      <td>0</td>\n",
       "      <td>1</td>\n",
       "      <td>0</td>\n",
       "      <td>21</td>\n",
       "      <td>7</td>\n",
       "      <td>5</td>\n",
       "    </tr>\n",
       "    <tr>\n",
       "      <th>2014-07-26 22:00:00</th>\n",
       "      <td>15844.0</td>\n",
       "      <td>207</td>\n",
       "      <td>0</td>\n",
       "      <td>1</td>\n",
       "      <td>0</td>\n",
       "      <td>0</td>\n",
       "      <td>1</td>\n",
       "      <td>0</td>\n",
       "      <td>22</td>\n",
       "      <td>7</td>\n",
       "      <td>5</td>\n",
       "    </tr>\n",
       "    <tr>\n",
       "      <th>2014-07-26 23:00:00</th>\n",
       "      <td>15081.0</td>\n",
       "      <td>207</td>\n",
       "      <td>0</td>\n",
       "      <td>1</td>\n",
       "      <td>0</td>\n",
       "      <td>0</td>\n",
       "      <td>1</td>\n",
       "      <td>0</td>\n",
       "      <td>23</td>\n",
       "      <td>7</td>\n",
       "      <td>5</td>\n",
       "    </tr>\n",
       "  </tbody>\n",
       "</table>\n",
       "<p>84891 rows × 11 columns</p>\n",
       "</div>"
      ],
      "text/plain": [
       "                         aep  year_day  holiday  weekend  winter  spring  \\\n",
       "Datetime                                                                   \n",
       "2004-12-31 01:00:00  13478.0       366        1        0       1       0   \n",
       "2004-12-31 02:00:00  12865.0       366        1        0       1       0   \n",
       "2004-12-31 03:00:00  12577.0       366        1        0       1       0   \n",
       "2004-12-31 04:00:00  12517.0       366        1        0       1       0   \n",
       "2004-12-31 05:00:00  12670.0       366        1        0       1       0   \n",
       "...                      ...       ...      ...      ...     ...     ...   \n",
       "2014-07-26 19:00:00  16710.0       207        0        1       0       0   \n",
       "2014-07-26 20:00:00  16259.0       207        0        1       0       0   \n",
       "2014-07-26 21:00:00  15994.0       207        0        1       0       0   \n",
       "2014-07-26 22:00:00  15844.0       207        0        1       0       0   \n",
       "2014-07-26 23:00:00  15081.0       207        0        1       0       0   \n",
       "\n",
       "                     summer  fall  hour  month  day_of_week  \n",
       "Datetime                                                     \n",
       "2004-12-31 01:00:00       0     0     1     12            4  \n",
       "2004-12-31 02:00:00       0     0     2     12            4  \n",
       "2004-12-31 03:00:00       0     0     3     12            4  \n",
       "2004-12-31 04:00:00       0     0     4     12            4  \n",
       "2004-12-31 05:00:00       0     0     5     12            4  \n",
       "...                     ...   ...   ...    ...          ...  \n",
       "2014-07-26 19:00:00       1     0    19      7            5  \n",
       "2014-07-26 20:00:00       1     0    20      7            5  \n",
       "2014-07-26 21:00:00       1     0    21      7            5  \n",
       "2014-07-26 22:00:00       1     0    22      7            5  \n",
       "2014-07-26 23:00:00       1     0    23      7            5  \n",
       "\n",
       "[84891 rows x 11 columns]"
      ]
     },
     "execution_count": 15,
     "metadata": {},
     "output_type": "execute_result"
    }
   ],
   "source": [
    "train_set"
   ]
  },
  {
   "cell_type": "code",
   "execution_count": 16,
   "id": "35f558bf",
   "metadata": {},
   "outputs": [
    {
     "data": {
      "text/plain": [
       "(84891, 4)"
      ]
     },
     "execution_count": 16,
     "metadata": {},
     "output_type": "execute_result"
    }
   ],
   "source": [
    "train_setO     = train_set[:].values\n",
    "\n",
    "holiday        = train_setO[:,2:3]\n",
    "weekend        = train_setO[:,3:4]\n",
    "\n",
    "\n",
    "en_holiday     = OneHotEncoder(handle_unknown='ignore')\n",
    "en_weekend    = OneHotEncoder(handle_unknown='ignore')\n",
    "\n",
    "\n",
    "holidayf       = en_holiday.fit(holiday)             #2\n",
    "holidayt       = holidayf.transform(holiday).toarray() \n",
    "\n",
    "weekendf       = en_weekend.fit(weekend)             #2\n",
    "weekendt       = weekendf.transform(weekend).toarray()\n",
    "\n",
    "\n",
    "\n",
    "\n",
    "train_categorical = np.concatenate((holidayt,weekendt), axis=1)\n",
    "train_categorical.shape"
   ]
  },
  {
   "cell_type": "markdown",
   "id": "e7d31763",
   "metadata": {},
   "source": [
    "##### Cyclic"
   ]
  },
  {
   "cell_type": "code",
   "execution_count": 17,
   "id": "12e7b85c",
   "metadata": {},
   "outputs": [
    {
     "data": {
      "text/plain": [
       "Index(['aep', 'year_day', 'holiday', 'weekend', 'winter', 'spring', 'summer',\n",
       "       'fall', 'hour', 'month', 'day_of_week'],\n",
       "      dtype='object')"
      ]
     },
     "execution_count": 17,
     "metadata": {},
     "output_type": "execute_result"
    }
   ],
   "source": [
    "df.columns"
   ]
  },
  {
   "cell_type": "code",
   "execution_count": 18,
   "id": "e1a94de5",
   "metadata": {},
   "outputs": [],
   "source": [
    "cyclic_train = train_set[['month','day_of_week','hour','winter', 'spring', 'summer','fall','year_day']]\n",
    "cyclic_train = cyclic_train[:].values\n",
    "\n",
    "\n",
    "sin_montht   = np.sin(2*np.pi*cyclic_train[:,0:1]/12)\n",
    "cos_montht   = np.cos(2*np.pi*cyclic_train[:,0:1]/12)\n",
    "\n",
    "sin_weekt    = np.sin(2*np.pi*cyclic_train[:,1:2]/6)\n",
    "cos_weekt    = np.cos(2*np.pi*cyclic_train[:,1:2]/6)\n",
    "  \n",
    "sin_hourt    = np.sin(2*np.pi*cyclic_train[:,2:3]/24)\n",
    "cos_hourt    = np.cos(2*np.pi*cyclic_train[:,2:3]/24)\n",
    "\n",
    "sin_wintert    = np.sin(2*np.pi*cyclic_train[:,3:4]/4)\n",
    "cos_wintert    = np.cos(2*np.pi*cyclic_train[:,3:4]/4)\n",
    "\n",
    "sin_springt    = np.sin(2*np.pi*cyclic_train[:,4:5]/4)\n",
    "cos_springt    = np.cos(2*np.pi*cyclic_train[:,4:5]/4)\n",
    "\n",
    "sin_summert    = np.sin(2*np.pi*cyclic_train[:,5:6]/4)\n",
    "cos_summert    = np.cos(2*np.pi*cyclic_train[:,5:6]/4)\n",
    "\n",
    "sin_fallt    = np.sin(2*np.pi*cyclic_train[:,6:7]/4)\n",
    "cos_fallt    = np.cos(2*np.pi*cyclic_train[:,6:7]/4)\n",
    "\n",
    "sin_year_dayt    = np.sin(2*np.pi*cyclic_train[:,7:8]/365)\n",
    "cos_year_dayt    = np.cos(2*np.pi*cyclic_train[:,7:8]/365)\n",
    "\n",
    "train_cyclic = np.concatenate((sin_montht, cos_montht, \n",
    "                               sin_weekt, cos_weekt, \n",
    "                               sin_hourt,cos_hourt,\n",
    "                               sin_wintert,cos_wintert,\n",
    "                               sin_springt,cos_springt,\n",
    "                               sin_summert ,cos_summert,\n",
    "                               sin_fallt,cos_fallt,\n",
    "                              sin_year_dayt ,cos_year_dayt ), axis=1) "
   ]
  },
  {
   "cell_type": "code",
   "execution_count": 19,
   "id": "3e50f0f2",
   "metadata": {},
   "outputs": [
    {
     "data": {
      "text/plain": [
       "(84891, 21)"
      ]
     },
     "execution_count": 19,
     "metadata": {},
     "output_type": "execute_result"
    }
   ],
   "source": [
    "train = np.concatenate((train_numerical,train_categorical, train_cyclic), axis=1)\n",
    "train.shape"
   ]
  },
  {
   "cell_type": "code",
   "execution_count": 20,
   "id": "ee52d504",
   "metadata": {},
   "outputs": [],
   "source": [
    "train_df = pd.DataFrame(data = train.transpose(), index = ['aep',\n",
    "                                                           'Is_holiday1','Is_holiday2',\n",
    "                                                           'Is_Weekend1','Is_Weekend2',\n",
    "                                                           'sin_month', 'cos_month',\n",
    "                                                           'sin_week','cos_week',\n",
    "                                                           'sin_hour', 'cos_hour',\n",
    "                                                         'sin_wintert','cos_wintert',\n",
    "                                                          'sin_springt','cos_springt',\n",
    "                                                          'sin_summert' ,'cos_summert',\n",
    "                                                          'sin_fallt','cos_fallt',\n",
    "                                                          'sin_year_dayt ','cos_year_dayt ']).transpose()"
   ]
  },
  {
   "cell_type": "code",
   "execution_count": 21,
   "id": "402eac70",
   "metadata": {},
   "outputs": [],
   "source": [
    "train_df.to_csv('7_AEP_train.csv', index=False)"
   ]
  },
  {
   "cell_type": "markdown",
   "id": "b6b3d23f",
   "metadata": {},
   "source": [
    "# validation"
   ]
  },
  {
   "cell_type": "markdown",
   "id": "02788378",
   "metadata": {},
   "source": [
    "##### MinMax"
   ]
  },
  {
   "cell_type": "code",
   "execution_count": 22,
   "id": "afc0c7a9",
   "metadata": {},
   "outputs": [
    {
     "data": {
      "text/plain": [
       "(24255, 1)"
      ]
     },
     "execution_count": 22,
     "metadata": {},
     "output_type": "execute_result"
    }
   ],
   "source": [
    "validation_numerical = scaled_validation_set_load\n",
    "validation_numerical.shape"
   ]
  },
  {
   "cell_type": "markdown",
   "id": "71004cb2",
   "metadata": {},
   "source": [
    "#### OneHot"
   ]
  },
  {
   "cell_type": "code",
   "execution_count": 23,
   "id": "74e516e3",
   "metadata": {},
   "outputs": [
    {
     "data": {
      "text/plain": [
       "(24255, 4)"
      ]
     },
     "execution_count": 23,
     "metadata": {},
     "output_type": "execute_result"
    }
   ],
   "source": [
    "\n",
    "validation_setO = validation_set[:].values\n",
    "\n",
    "holiday        = validation_setO[:,2:3]\n",
    "weekend        = validation_setO[:,3:4]\n",
    "\n",
    "\n",
    "\n",
    "holidayt       = holidayf.transform(holiday).toarray() \n",
    "\n",
    "weekendt       = weekendf.transform(weekend).toarray()\n",
    "            \n",
    "                                                        \n",
    "            \n",
    "validation_categorical = np.concatenate((holidayt,weekendt), axis=1)\n",
    "validation_categorical.shape"
   ]
  },
  {
   "cell_type": "markdown",
   "id": "58f04bbc",
   "metadata": {},
   "source": [
    "#### cyclic"
   ]
  },
  {
   "cell_type": "code",
   "execution_count": 24,
   "id": "07ee672e",
   "metadata": {},
   "outputs": [
    {
     "data": {
      "text/plain": [
       "(24255, 16)"
      ]
     },
     "execution_count": 24,
     "metadata": {},
     "output_type": "execute_result"
    }
   ],
   "source": [
    "cyclic_validation = validation_set[['month','day_of_week','hour','winter', 'spring', 'summer','fall','year_day']]\n",
    "cyclic_validation = cyclic_validation[:].values\n",
    "\n",
    "sin_montht   = np.sin(2*np.pi*cyclic_validation[:,0:1]/12)\n",
    "cos_montht   = np.cos(2*np.pi*cyclic_validation[:,0:1]/12)\n",
    "\n",
    "sin_weekt    = np.sin(2*np.pi*cyclic_validation[:,1:2]/6)\n",
    "cos_weekt    = np.cos(2*np.pi*cyclic_validation[:,1:2]/6)\n",
    "  \n",
    "sin_hourt    = np.sin(2*np.pi*cyclic_validation[:,2:3]/24)\n",
    "cos_hourt    = np.cos(2*np.pi*cyclic_validation[:,2:3]/24)\n",
    "\n",
    "sin_wintert    = np.sin(2*np.pi*cyclic_validation[:,3:4]/4)\n",
    "cos_wintert    = np.cos(2*np.pi*cyclic_validation[:,3:4]/4)\n",
    "\n",
    "sin_springt    = np.sin(2*np.pi*cyclic_validation[:,4:5]/4)\n",
    "cos_springt    = np.cos(2*np.pi*cyclic_validation[:,4:5]/4)\n",
    "\n",
    "sin_summert    = np.sin(2*np.pi*cyclic_validation[:,5:6]/4)\n",
    "cos_summert    = np.cos(2*np.pi*cyclic_validation[:,5:6]/4)\n",
    "\n",
    "sin_fallt    = np.sin(2*np.pi*cyclic_validation[:,6:7]/4)\n",
    "cos_fallt    = np.cos(2*np.pi*cyclic_validation[:,6:7]/4)\n",
    "\n",
    "sin_year_dayt    = np.sin(2*np.pi*cyclic_validation[:,7:8]/365)\n",
    "cos_year_dayt    = np.cos(2*np.pi*cyclic_validation[:,7:8]/365)\n",
    "\n",
    "validation_cyclic = np.concatenate((sin_montht, cos_montht, \n",
    "                               sin_weekt, cos_weekt, \n",
    "                               sin_hourt,cos_hourt,\n",
    "                               sin_wintert,cos_wintert,\n",
    "                               sin_springt,cos_springt,\n",
    "                               sin_summert ,cos_summert,\n",
    "                               sin_fallt,cos_fallt,sin_year_dayt,cos_year_dayt), axis=1) \n",
    "\n",
    "validation_cyclic.shape "
   ]
  },
  {
   "cell_type": "code",
   "execution_count": 25,
   "id": "25822b40",
   "metadata": {},
   "outputs": [
    {
     "data": {
      "text/plain": [
       "(24255, 21)"
      ]
     },
     "execution_count": 25,
     "metadata": {},
     "output_type": "execute_result"
    }
   ],
   "source": [
    "validation = np.concatenate((validation_numerical,validation_categorical, validation_cyclic), axis=1)\n",
    "validation.shape\n"
   ]
  },
  {
   "cell_type": "code",
   "execution_count": 26,
   "id": "6f429257",
   "metadata": {},
   "outputs": [],
   "source": [
    "validation_df = pd.DataFrame(data = validation.transpose(), index = ['aep',\n",
    "                                                           'Is_holiday1','Is_holiday2',\n",
    "                                                           'Is_Weekend1','Is_Weekend2',\n",
    "                                                           'sin_month', 'cos_month',\n",
    "                                                           'sin_week','cos_week',\n",
    "                                                           'sin_hour', 'cos_hour',\n",
    "                                                         'sin_wintert','cos_wintert',\n",
    "                                                          'sin_springt','cos_springt',\n",
    "                                                          'sin_summert' ,'cos_summert',\n",
    "                                                          'sin_fallt','cos_fallt',\n",
    "                                                                     'sin_year_dayt','cos_year_dayt']).transpose()"
   ]
  },
  {
   "cell_type": "code",
   "execution_count": 27,
   "id": "02422df9",
   "metadata": {},
   "outputs": [],
   "source": [
    "validation_df.to_csv('8_AEP_validation.csv', index=False)"
   ]
  },
  {
   "cell_type": "code",
   "execution_count": 28,
   "id": "f76949ff",
   "metadata": {},
   "outputs": [
    {
     "data": {
      "text/plain": [
       "(24255, 21)"
      ]
     },
     "execution_count": 28,
     "metadata": {},
     "output_type": "execute_result"
    }
   ],
   "source": [
    "validation_df.shape"
   ]
  },
  {
   "cell_type": "markdown",
   "id": "954f87b2",
   "metadata": {},
   "source": [
    "# Test"
   ]
  },
  {
   "cell_type": "markdown",
   "id": "802e899d",
   "metadata": {},
   "source": [
    "##### MinMax"
   ]
  },
  {
   "cell_type": "code",
   "execution_count": 29,
   "id": "9868ac94",
   "metadata": {},
   "outputs": [
    {
     "data": {
      "text/plain": [
       "(12127, 1)"
      ]
     },
     "execution_count": 29,
     "metadata": {},
     "output_type": "execute_result"
    }
   ],
   "source": [
    "test_numerical = scaled_test_set_load\n",
    "test_numerical.shape"
   ]
  },
  {
   "cell_type": "markdown",
   "id": "dca4f189",
   "metadata": {},
   "source": [
    "##### OneHot"
   ]
  },
  {
   "cell_type": "code",
   "execution_count": 30,
   "id": "38031fd6",
   "metadata": {},
   "outputs": [
    {
     "data": {
      "text/plain": [
       "(12127, 4)"
      ]
     },
     "execution_count": 30,
     "metadata": {},
     "output_type": "execute_result"
    }
   ],
   "source": [
    "\n",
    "test_setO = test_set[:].values\n",
    "\n",
    "holiday        = test_setO[:,2:3]\n",
    "weekend        = test_setO[:,3:4]\n",
    "\n",
    "\n",
    "\n",
    "holidayt       = holidayf.transform(holiday).toarray() \n",
    "\n",
    "weekendt       = weekendf.transform(weekend).toarray()\n",
    "            \n",
    "                                                        \n",
    "            \n",
    "test_categorical = np.concatenate((holidayt,weekendt), axis=1)\n",
    "test_categorical.shape"
   ]
  },
  {
   "cell_type": "markdown",
   "id": "b2acbbba",
   "metadata": {},
   "source": [
    "##### cyclic"
   ]
  },
  {
   "cell_type": "code",
   "execution_count": 31,
   "id": "bcd7ee4a",
   "metadata": {},
   "outputs": [
    {
     "data": {
      "text/plain": [
       "(12127, 16)"
      ]
     },
     "execution_count": 31,
     "metadata": {},
     "output_type": "execute_result"
    }
   ],
   "source": [
    "cyclic_test = test_set[['month','day_of_week','hour','winter', 'spring', 'summer','fall', 'year_day']]\n",
    "cyclic_test = cyclic_test[:].values\n",
    "\n",
    "sin_montht   = np.sin(2*np.pi*cyclic_test[:,0:1]/12)\n",
    "cos_montht   = np.cos(2*np.pi*cyclic_test[:,0:1]/12)\n",
    "\n",
    "sin_weekt    = np.sin(2*np.pi*cyclic_test[:,1:2]/6)\n",
    "cos_weekt    = np.cos(2*np.pi*cyclic_test[:,1:2]/6)\n",
    "  \n",
    "sin_hourt    = np.sin(2*np.pi*cyclic_test[:,2:3]/24)\n",
    "cos_hourt    = np.cos(2*np.pi*cyclic_test[:,2:3]/24)\n",
    "\n",
    "sin_wintert    = np.sin(2*np.pi*cyclic_test[:,3:4]/4)\n",
    "cos_wintert    = np.cos(2*np.pi*cyclic_test[:,3:4]/4)\n",
    "\n",
    "sin_springt    = np.sin(2*np.pi*cyclic_test[:,4:5]/4)\n",
    "cos_springt    = np.cos(2*np.pi*cyclic_test[:,4:5]/4)\n",
    "\n",
    "sin_summert    = np.sin(2*np.pi*cyclic_test[:,5:6]/4)\n",
    "cos_summert    = np.cos(2*np.pi*cyclic_test[:,5:6]/4)\n",
    "\n",
    "sin_fallt    = np.sin(2*np.pi*cyclic_test[:,6:7]/4)\n",
    "cos_fallt    = np.cos(2*np.pi*cyclic_test[:,6:7]/4)\n",
    "\n",
    "sin_year_dayt    = np.sin(2*np.pi*cyclic_test[:,7:8]/365)\n",
    "cos_year_dayt    = np.cos(2*np.pi*cyclic_test[:,7:8]/365)\n",
    "\n",
    "test_cyclic = np.concatenate((sin_montht, cos_montht, \n",
    "                               sin_weekt, cos_weekt, \n",
    "                               sin_hourt,cos_hourt,\n",
    "                               sin_wintert,cos_wintert,\n",
    "                               sin_springt,cos_springt,\n",
    "                               sin_summert ,cos_summert,\n",
    "                               sin_fallt,cos_fallt,sin_year_dayt,cos_year_dayt ), axis=1) \n",
    "\n",
    "test_cyclic.shape "
   ]
  },
  {
   "cell_type": "code",
   "execution_count": 32,
   "id": "d46dca37",
   "metadata": {},
   "outputs": [
    {
     "data": {
      "text/plain": [
       "(12127, 21)"
      ]
     },
     "execution_count": 32,
     "metadata": {},
     "output_type": "execute_result"
    }
   ],
   "source": [
    "test = np.concatenate((test_numerical,test_categorical, test_cyclic), axis=1)\n",
    "test.shape\n"
   ]
  },
  {
   "cell_type": "code",
   "execution_count": 33,
   "id": "22152687",
   "metadata": {},
   "outputs": [],
   "source": [
    "test_df = pd.DataFrame(data = test.transpose(), index = ['aep',\n",
    "                                                           'Is_holiday1','Is_holiday2',\n",
    "                                                           'Is_Weekend1','Is_Weekend2',\n",
    "                                                           'sin_month', 'cos_month',\n",
    "                                                           'sin_week','cos_week',\n",
    "                                                           'sin_hour', 'cos_hour',\n",
    "                                                         'sin_wintert','cos_wintert',\n",
    "                                                          'sin_springt','cos_springt',\n",
    "                                                          'sin_summert' ,'cos_summert',\n",
    "                                                          'sin_fallt','cos_fallt',\n",
    "                                                         'sin_year_dayt','cos_year_dayt']).transpose()"
   ]
  },
  {
   "cell_type": "code",
   "execution_count": 34,
   "id": "3a2c3c8c",
   "metadata": {},
   "outputs": [],
   "source": [
    "\n",
    "test_df.to_csv('9_AEP_test.csv', index=False)"
   ]
  },
  {
   "cell_type": "code",
   "execution_count": 35,
   "id": "fe6f9ccb",
   "metadata": {},
   "outputs": [
    {
     "data": {
      "text/plain": [
       "(12127, 21)"
      ]
     },
     "execution_count": 35,
     "metadata": {},
     "output_type": "execute_result"
    }
   ],
   "source": [
    "test_df.shape"
   ]
  },
  {
   "cell_type": "code",
   "execution_count": 36,
   "id": "c22b5687",
   "metadata": {},
   "outputs": [
    {
     "data": {
      "text/plain": [
       "2312"
      ]
     },
     "execution_count": 36,
     "metadata": {},
     "output_type": "execute_result"
    }
   ],
   "source": [
    "4*((24*24)+24^2+24)"
   ]
  },
  {
   "cell_type": "code",
   "execution_count": 37,
   "id": "7d48a93a",
   "metadata": {},
   "outputs": [
    {
     "data": {
      "text/plain": [
       "176.88958333333332"
      ]
     },
     "execution_count": 37,
     "metadata": {},
     "output_type": "execute_result"
    }
   ],
   "source": [
    "(84907)/(10*(24+24))"
   ]
  },
  {
   "cell_type": "code",
   "execution_count": 38,
   "id": "2eb75ce5",
   "metadata": {},
   "outputs": [
    {
     "data": {
      "text/plain": [
       "84907"
      ]
     },
     "execution_count": 38,
     "metadata": {},
     "output_type": "execute_result"
    }
   ],
   "source": [
    "84907"
   ]
  },
  {
   "cell_type": "code",
   "execution_count": null,
   "id": "5f01a6cd",
   "metadata": {},
   "outputs": [],
   "source": []
  }
 ],
 "metadata": {
  "kernelspec": {
   "display_name": "Python 3 (ipykernel)",
   "language": "python",
   "name": "python3"
  },
  "language_info": {
   "codemirror_mode": {
    "name": "ipython",
    "version": 3
   },
   "file_extension": ".py",
   "mimetype": "text/x-python",
   "name": "python",
   "nbconvert_exporter": "python",
   "pygments_lexer": "ipython3",
   "version": "3.7.1"
  }
 },
 "nbformat": 4,
 "nbformat_minor": 5
}
